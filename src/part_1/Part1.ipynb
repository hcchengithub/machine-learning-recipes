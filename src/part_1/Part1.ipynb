{
 "cells": [
  {
   "cell_type": "code",
   "execution_count": 9,
   "metadata": {},
   "outputs": [],
   "source": [
    "import peforth"
   ]
  },
  {
   "cell_type": "code",
   "execution_count": null,
   "metadata": {},
   "outputs": [],
   "source": [
    "import numpy as np"
   ]
  },
  {
   "cell_type": "code",
   "execution_count": 2,
   "metadata": {},
   "outputs": [],
   "source": [
    "# Part 1 - Hello World - https://youtu.be/cKxRvEZd3Mw\n",
    "\n",
    "# Follow a recipe for supervised learning (a technique to create a classifier from examples) and code it up.\n",
    "# import endo\n",
    "# endo.Local = locals()\n",
    "from sklearn import tree"
   ]
  },
  {
   "cell_type": "code",
   "execution_count": 3,
   "metadata": {},
   "outputs": [],
   "source": [
    "# Examples\n",
    "# Weight Texture Label\n",
    "# 150g   Bumpy   Orange\n",
    "# 170g   Bumpy   Orange\n",
    "# 140g   Smooth  Apple\n",
    "# 130g   Smooth  Apple\n",
    "\n",
    "# Training Data\n",
    "# features = [[140, \"smooth\"], [130, \"smooth\"], [150, \"bumpy\"], [170, \"bumpy\"]]  # Input to classifier\n",
    "features = [[140, 1], [130, 1], [150, 0], [170, 0]]  # scikit-learn uses real-valued features 不接受 string\n",
    "\n",
    "# labels = [\"apple\", \"apple\", \"orange\", \"orange\"]  # Desired output\n",
    "labels = [0, 0, 1, 1]"
   ]
  },
  {
   "cell_type": "code",
   "execution_count": 4,
   "metadata": {},
   "outputs": [],
   "source": [
    "# Train Classifer\n",
    "clf = tree.DecisionTreeClassifier()  # Decision Tree classifier"
   ]
  },
  {
   "cell_type": "code",
   "execution_count": 10,
   "metadata": {},
   "outputs": [],
   "source": [
    "%%f \n",
    "__main__ :> tree constant tree // ( -- module ) the decision-tree *module* from sk-lern\n",
    "__main__ :> clf constant clf // ( -- classifier ) the decision-tree *class* from sk-lern \n"
   ]
  },
  {
   "cell_type": "code",
   "execution_count": 5,
   "metadata": {},
   "outputs": [],
   "source": [
    "# clf = clf.fit(features, labels)  # Find patterns in data\n",
    "clf.fit(features, labels);  # 試驗是否這樣也可以？ 是的，結果放回 clf 是多此一舉。"
   ]
  },
  {
   "cell_type": "code",
   "execution_count": 9,
   "metadata": {},
   "outputs": [
    {
     "name": "stdout",
     "output_type": "stream",
     "text": [
      "True\n"
     ]
    }
   ],
   "source": [
    "# 我發現 clf 傳回來的還是 clf 本身，而且還是個 class 。。。\n",
    "peforth.push(clf).dictate(\"constant clf2 // ( -- classifier ) same class with added properties\").dictate(\"clf clf2 == . cr\");"
   ]
  },
  {
   "cell_type": "markdown",
   "metadata": {},
   "source": [
    "fit 過後新的 clf 多出這些東西\n",
    "\n",
    "    'classes_',\n",
    "    'max_features_',\n",
    "    'n_classes_',\n",
    "    'n_features_',\n",
    "    'n_outputs_',\n",
    "    'tree_'"
   ]
  },
  {
   "cell_type": "code",
   "execution_count": 6,
   "metadata": {},
   "outputs": [
    {
     "name": "stdout",
     "output_type": "stream",
     "text": [
      "[1]\n"
     ]
    }
   ],
   "source": [
    "# Make Predictions\n",
    "print (clf.predict([[160, 0]]))\n",
    "# Output: 0-apple, 1-orange\n",
    "# Correct output is: 1-orange\n",
    "# endo.bp('11>')\n",
    "# endo.bp('22>')"
   ]
  },
  {
   "cell_type": "code",
   "execution_count": 11,
   "metadata": {
    "collapsed": true
   },
   "outputs": [
    {
     "name": "stdout",
     "output_type": "stream",
     "text": [
      "clf :> predict([[120,0]]) tib. \\ ==> [1] (<class 'numpy.ndarray'>)\n",
      "clf :> predict([[190,1]]) tib. \\ ==> [0] (<class 'numpy.ndarray'>)\n",
      "100 clf :> predict([[pop(),0]]) tib. \\ ==> [1] (<class 'numpy.ndarray'>)\n",
      "101 clf :> predict([[pop(),0]]) tib. \\ ==> [1] (<class 'numpy.ndarray'>)\n",
      "102 clf :> predict([[pop(),0]]) tib. \\ ==> [1] (<class 'numpy.ndarray'>)\n",
      "103 clf :> predict([[pop(),0]]) tib. \\ ==> [1] (<class 'numpy.ndarray'>)\n",
      "104 clf :> predict([[pop(),0]]) tib. \\ ==> [1] (<class 'numpy.ndarray'>)\n",
      "105 clf :> predict([[pop(),0]]) tib. \\ ==> [1] (<class 'numpy.ndarray'>)\n",
      "106 clf :> predict([[pop(),0]]) tib. \\ ==> [1] (<class 'numpy.ndarray'>)\n",
      "107 clf :> predict([[pop(),0]]) tib. \\ ==> [1] (<class 'numpy.ndarray'>)\n",
      "108 clf :> predict([[pop(),0]]) tib. \\ ==> [1] (<class 'numpy.ndarray'>)\n",
      "109 clf :> predict([[pop(),0]]) tib. \\ ==> [1] (<class 'numpy.ndarray'>)\n",
      "110 clf :> predict([[pop(),0]]) tib. \\ ==> [1] (<class 'numpy.ndarray'>)\n",
      "111 clf :> predict([[pop(),0]]) tib. \\ ==> [1] (<class 'numpy.ndarray'>)\n",
      "112 clf :> predict([[pop(),0]]) tib. \\ ==> [1] (<class 'numpy.ndarray'>)\n",
      "113 clf :> predict([[pop(),0]]) tib. \\ ==> [1] (<class 'numpy.ndarray'>)\n",
      "114 clf :> predict([[pop(),0]]) tib. \\ ==> [1] (<class 'numpy.ndarray'>)\n",
      "115 clf :> predict([[pop(),0]]) tib. \\ ==> [1] (<class 'numpy.ndarray'>)\n",
      "116 clf :> predict([[pop(),0]]) tib. \\ ==> [1] (<class 'numpy.ndarray'>)\n",
      "117 clf :> predict([[pop(),0]]) tib. \\ ==> [1] (<class 'numpy.ndarray'>)\n",
      "118 clf :> predict([[pop(),0]]) tib. \\ ==> [1] (<class 'numpy.ndarray'>)\n",
      "119 clf :> predict([[pop(),0]]) tib. \\ ==> [1] (<class 'numpy.ndarray'>)\n",
      "120 clf :> predict([[pop(),0]]) tib. \\ ==> [1] (<class 'numpy.ndarray'>)\n",
      "121 clf :> predict([[pop(),0]]) tib. \\ ==> [1] (<class 'numpy.ndarray'>)\n",
      "122 clf :> predict([[pop(),0]]) tib. \\ ==> [1] (<class 'numpy.ndarray'>)\n",
      "123 clf :> predict([[pop(),0]]) tib. \\ ==> [1] (<class 'numpy.ndarray'>)\n",
      "124 clf :> predict([[pop(),0]]) tib. \\ ==> [1] (<class 'numpy.ndarray'>)\n",
      "125 clf :> predict([[pop(),0]]) tib. \\ ==> [1] (<class 'numpy.ndarray'>)\n",
      "126 clf :> predict([[pop(),0]]) tib. \\ ==> [1] (<class 'numpy.ndarray'>)\n",
      "127 clf :> predict([[pop(),0]]) tib. \\ ==> [1] (<class 'numpy.ndarray'>)\n",
      "128 clf :> predict([[pop(),0]]) tib. \\ ==> [1] (<class 'numpy.ndarray'>)\n",
      "129 clf :> predict([[pop(),0]]) tib. \\ ==> [1] (<class 'numpy.ndarray'>)\n",
      "130 clf :> predict([[pop(),0]]) tib. \\ ==> [1] (<class 'numpy.ndarray'>)\n",
      "131 clf :> predict([[pop(),0]]) tib. \\ ==> [1] (<class 'numpy.ndarray'>)\n",
      "132 clf :> predict([[pop(),0]]) tib. \\ ==> [1] (<class 'numpy.ndarray'>)\n",
      "133 clf :> predict([[pop(),0]]) tib. \\ ==> [1] (<class 'numpy.ndarray'>)\n",
      "134 clf :> predict([[pop(),0]]) tib. \\ ==> [1] (<class 'numpy.ndarray'>)\n",
      "135 clf :> predict([[pop(),0]]) tib. \\ ==> [1] (<class 'numpy.ndarray'>)\n",
      "136 clf :> predict([[pop(),0]]) tib. \\ ==> [1] (<class 'numpy.ndarray'>)\n",
      "137 clf :> predict([[pop(),0]]) tib. \\ ==> [1] (<class 'numpy.ndarray'>)\n",
      "138 clf :> predict([[pop(),0]]) tib. \\ ==> [1] (<class 'numpy.ndarray'>)\n",
      "139 clf :> predict([[pop(),0]]) tib. \\ ==> [1] (<class 'numpy.ndarray'>)\n",
      "140 clf :> predict([[pop(),0]]) tib. \\ ==> [1] (<class 'numpy.ndarray'>)\n",
      "141 clf :> predict([[pop(),0]]) tib. \\ ==> [1] (<class 'numpy.ndarray'>)\n",
      "142 clf :> predict([[pop(),0]]) tib. \\ ==> [1] (<class 'numpy.ndarray'>)\n",
      "143 clf :> predict([[pop(),0]]) tib. \\ ==> [1] (<class 'numpy.ndarray'>)\n",
      "144 clf :> predict([[pop(),0]]) tib. \\ ==> [1] (<class 'numpy.ndarray'>)\n",
      "145 clf :> predict([[pop(),0]]) tib. \\ ==> [1] (<class 'numpy.ndarray'>)\n",
      "146 clf :> predict([[pop(),0]]) tib. \\ ==> [1] (<class 'numpy.ndarray'>)\n",
      "147 clf :> predict([[pop(),0]]) tib. \\ ==> [1] (<class 'numpy.ndarray'>)\n",
      "148 clf :> predict([[pop(),0]]) tib. \\ ==> [1] (<class 'numpy.ndarray'>)\n",
      "149 clf :> predict([[pop(),0]]) tib. \\ ==> [1] (<class 'numpy.ndarray'>)\n",
      "150 clf :> predict([[pop(),0]]) tib. \\ ==> [1] (<class 'numpy.ndarray'>)\n",
      "151 clf :> predict([[pop(),0]]) tib. \\ ==> [1] (<class 'numpy.ndarray'>)\n",
      "152 clf :> predict([[pop(),0]]) tib. \\ ==> [1] (<class 'numpy.ndarray'>)\n",
      "153 clf :> predict([[pop(),0]]) tib. \\ ==> [1] (<class 'numpy.ndarray'>)\n",
      "154 clf :> predict([[pop(),0]]) tib. \\ ==> [1] (<class 'numpy.ndarray'>)\n",
      "155 clf :> predict([[pop(),0]]) tib. \\ ==> [1] (<class 'numpy.ndarray'>)\n",
      "156 clf :> predict([[pop(),0]]) tib. \\ ==> [1] (<class 'numpy.ndarray'>)\n",
      "157 clf :> predict([[pop(),0]]) tib. \\ ==> [1] (<class 'numpy.ndarray'>)\n",
      "158 clf :> predict([[pop(),0]]) tib. \\ ==> [1] (<class 'numpy.ndarray'>)\n",
      "159 clf :> predict([[pop(),0]]) tib. \\ ==> [1] (<class 'numpy.ndarray'>)\n",
      "160 clf :> predict([[pop(),0]]) tib. \\ ==> [1] (<class 'numpy.ndarray'>)\n",
      "161 clf :> predict([[pop(),0]]) tib. \\ ==> [1] (<class 'numpy.ndarray'>)\n",
      "162 clf :> predict([[pop(),0]]) tib. \\ ==> [1] (<class 'numpy.ndarray'>)\n",
      "163 clf :> predict([[pop(),0]]) tib. \\ ==> [1] (<class 'numpy.ndarray'>)\n",
      "164 clf :> predict([[pop(),0]]) tib. \\ ==> [1] (<class 'numpy.ndarray'>)\n",
      "165 clf :> predict([[pop(),0]]) tib. \\ ==> [1] (<class 'numpy.ndarray'>)\n",
      "166 clf :> predict([[pop(),0]]) tib. \\ ==> [1] (<class 'numpy.ndarray'>)\n",
      "167 clf :> predict([[pop(),0]]) tib. \\ ==> [1] (<class 'numpy.ndarray'>)\n",
      "168 clf :> predict([[pop(),0]]) tib. \\ ==> [1] (<class 'numpy.ndarray'>)\n",
      "169 clf :> predict([[pop(),0]]) tib. \\ ==> [1] (<class 'numpy.ndarray'>)\n",
      "170 clf :> predict([[pop(),0]]) tib. \\ ==> [1] (<class 'numpy.ndarray'>)\n",
      "171 clf :> predict([[pop(),0]]) tib. \\ ==> [1] (<class 'numpy.ndarray'>)\n",
      "172 clf :> predict([[pop(),0]]) tib. \\ ==> [1] (<class 'numpy.ndarray'>)\n",
      "173 clf :> predict([[pop(),0]]) tib. \\ ==> [1] (<class 'numpy.ndarray'>)\n",
      "174 clf :> predict([[pop(),0]]) tib. \\ ==> [1] (<class 'numpy.ndarray'>)\n",
      "175 clf :> predict([[pop(),0]]) tib. \\ ==> [1] (<class 'numpy.ndarray'>)\n",
      "176 clf :> predict([[pop(),0]]) tib. \\ ==> [1] (<class 'numpy.ndarray'>)\n",
      "177 clf :> predict([[pop(),0]]) tib. \\ ==> [1] (<class 'numpy.ndarray'>)\n",
      "178 clf :> predict([[pop(),0]]) tib. \\ ==> [1] (<class 'numpy.ndarray'>)\n",
      "179 clf :> predict([[pop(),0]]) tib. \\ ==> [1] (<class 'numpy.ndarray'>)\n",
      "180 clf :> predict([[pop(),0]]) tib. \\ ==> [1] (<class 'numpy.ndarray'>)\n",
      "181 clf :> predict([[pop(),0]]) tib. \\ ==> [1] (<class 'numpy.ndarray'>)\n",
      "182 clf :> predict([[pop(),0]]) tib. \\ ==> [1] (<class 'numpy.ndarray'>)\n",
      "183 clf :> predict([[pop(),0]]) tib. \\ ==> [1] (<class 'numpy.ndarray'>)\n",
      "184 clf :> predict([[pop(),0]]) tib. \\ ==> [1] (<class 'numpy.ndarray'>)\n",
      "185 clf :> predict([[pop(),0]]) tib. \\ ==> [1] (<class 'numpy.ndarray'>)\n",
      "186 clf :> predict([[pop(),0]]) tib. \\ ==> [1] (<class 'numpy.ndarray'>)\n",
      "187 clf :> predict([[pop(),0]]) tib. \\ ==> [1] (<class 'numpy.ndarray'>)\n",
      "188 clf :> predict([[pop(),0]]) tib. \\ ==> [1] (<class 'numpy.ndarray'>)\n",
      "189 clf :> predict([[pop(),0]]) tib. \\ ==> [1] (<class 'numpy.ndarray'>)\n",
      "190 clf :> predict([[pop(),0]]) tib. \\ ==> [1] (<class 'numpy.ndarray'>)\n",
      "191 clf :> predict([[pop(),0]]) tib. \\ ==> [1] (<class 'numpy.ndarray'>)\n",
      "192 clf :> predict([[pop(),0]]) tib. \\ ==> [1] (<class 'numpy.ndarray'>)\n",
      "193 clf :> predict([[pop(),0]]) tib. \\ ==> [1] (<class 'numpy.ndarray'>)\n",
      "194 clf :> predict([[pop(),0]]) tib. \\ ==> [1] (<class 'numpy.ndarray'>)\n",
      "195 clf :> predict([[pop(),0]]) tib. \\ ==> [1] (<class 'numpy.ndarray'>)\n",
      "196 clf :> predict([[pop(),0]]) tib. \\ ==> [1] (<class 'numpy.ndarray'>)\n",
      "197 clf :> predict([[pop(),0]]) tib. \\ ==> [1] (<class 'numpy.ndarray'>)\n",
      "198 clf :> predict([[pop(),0]]) tib. \\ ==> [1] (<class 'numpy.ndarray'>)\n",
      "199 clf :> predict([[pop(),0]]) tib. \\ ==> [1] (<class 'numpy.ndarray'>)\n",
      "200 clf :> predict([[pop(),0]]) tib. \\ ==> [1] (<class 'numpy.ndarray'>)\n",
      "100 clf :> predict([[pop(),1]]) tib. \\ ==> [0] (<class 'numpy.ndarray'>)\n",
      "101 clf :> predict([[pop(),1]]) tib. \\ ==> [0] (<class 'numpy.ndarray'>)\n",
      "102 clf :> predict([[pop(),1]]) tib. \\ ==> [0] (<class 'numpy.ndarray'>)\n",
      "103 clf :> predict([[pop(),1]]) tib. \\ ==> [0] (<class 'numpy.ndarray'>)\n",
      "104 clf :> predict([[pop(),1]]) tib. \\ ==> [0] (<class 'numpy.ndarray'>)\n",
      "105 clf :> predict([[pop(),1]]) tib. \\ ==> [0] (<class 'numpy.ndarray'>)\n",
      "106 clf :> predict([[pop(),1]]) tib. \\ ==> [0] (<class 'numpy.ndarray'>)\n",
      "107 clf :> predict([[pop(),1]]) tib. \\ ==> [0] (<class 'numpy.ndarray'>)\n",
      "108 clf :> predict([[pop(),1]]) tib. \\ ==> [0] (<class 'numpy.ndarray'>)\n",
      "109 clf :> predict([[pop(),1]]) tib. \\ ==> [0] (<class 'numpy.ndarray'>)\n",
      "110 clf :> predict([[pop(),1]]) tib. \\ ==> [0] (<class 'numpy.ndarray'>)\n",
      "111 clf :> predict([[pop(),1]]) tib. \\ ==> [0] (<class 'numpy.ndarray'>)\n",
      "112 clf :> predict([[pop(),1]]) tib. \\ ==> [0] (<class 'numpy.ndarray'>)\n",
      "113 clf :> predict([[pop(),1]]) tib. \\ ==> [0] (<class 'numpy.ndarray'>)\n",
      "114 clf :> predict([[pop(),1]]) tib. \\ ==> [0] (<class 'numpy.ndarray'>)\n",
      "115 clf :> predict([[pop(),1]]) tib. \\ ==> [0] (<class 'numpy.ndarray'>)\n",
      "116 clf :> predict([[pop(),1]]) tib. \\ ==> [0] (<class 'numpy.ndarray'>)\n",
      "117 clf :> predict([[pop(),1]]) tib. \\ ==> [0] (<class 'numpy.ndarray'>)\n",
      "118 clf :> predict([[pop(),1]]) tib. \\ ==> [0] (<class 'numpy.ndarray'>)\n",
      "119 clf :> predict([[pop(),1]]) tib. \\ ==> [0] (<class 'numpy.ndarray'>)\n",
      "120 clf :> predict([[pop(),1]]) tib. \\ ==> [0] (<class 'numpy.ndarray'>)\n",
      "121 clf :> predict([[pop(),1]]) tib. \\ ==> [0] (<class 'numpy.ndarray'>)\n",
      "122 clf :> predict([[pop(),1]]) tib. \\ ==> [0] (<class 'numpy.ndarray'>)\n",
      "123 clf :> predict([[pop(),1]]) tib. \\ ==> [0] (<class 'numpy.ndarray'>)\n",
      "124 clf :> predict([[pop(),1]]) tib. \\ ==> [0] (<class 'numpy.ndarray'>)\n",
      "125 clf :> predict([[pop(),1]]) tib. \\ ==> [0] (<class 'numpy.ndarray'>)\n",
      "126 clf :> predict([[pop(),1]]) tib. \\ ==> [0] (<class 'numpy.ndarray'>)\n",
      "127 clf :> predict([[pop(),1]]) tib. \\ ==> [0] (<class 'numpy.ndarray'>)\n",
      "128 clf :> predict([[pop(),1]]) tib. \\ ==> [0] (<class 'numpy.ndarray'>)\n",
      "129 clf :> predict([[pop(),1]]) tib. \\ ==> [0] (<class 'numpy.ndarray'>)\n",
      "130 clf :> predict([[pop(),1]]) tib. \\ ==> [0] (<class 'numpy.ndarray'>)\n",
      "131 clf :> predict([[pop(),1]]) tib. \\ ==> [0] (<class 'numpy.ndarray'>)\n",
      "132 clf :> predict([[pop(),1]]) tib. \\ ==> [0] (<class 'numpy.ndarray'>)\n",
      "133 clf :> predict([[pop(),1]]) tib. \\ ==> [0] (<class 'numpy.ndarray'>)\n",
      "134 clf :> predict([[pop(),1]]) tib. \\ ==> [0] (<class 'numpy.ndarray'>)\n",
      "135 clf :> predict([[pop(),1]]) tib. \\ ==> [0] (<class 'numpy.ndarray'>)\n",
      "136 clf :> predict([[pop(),1]]) tib. \\ ==> [0] (<class 'numpy.ndarray'>)\n",
      "137 clf :> predict([[pop(),1]]) tib. \\ ==> [0] (<class 'numpy.ndarray'>)\n",
      "138 clf :> predict([[pop(),1]]) tib. \\ ==> [0] (<class 'numpy.ndarray'>)\n",
      "139 clf :> predict([[pop(),1]]) tib. \\ ==> [0] (<class 'numpy.ndarray'>)\n",
      "140 clf :> predict([[pop(),1]]) tib. \\ ==> [0] (<class 'numpy.ndarray'>)\n",
      "141 clf :> predict([[pop(),1]]) tib. \\ ==> [0] (<class 'numpy.ndarray'>)\n",
      "142 clf :> predict([[pop(),1]]) tib. \\ ==> [0] (<class 'numpy.ndarray'>)\n",
      "143 clf :> predict([[pop(),1]]) tib. \\ ==> [0] (<class 'numpy.ndarray'>)\n",
      "144 clf :> predict([[pop(),1]]) tib. \\ ==> [0] (<class 'numpy.ndarray'>)\n",
      "145 clf :> predict([[pop(),1]]) tib. \\ ==> [0] (<class 'numpy.ndarray'>)\n",
      "146 clf :> predict([[pop(),1]]) tib. \\ ==> [0] (<class 'numpy.ndarray'>)\n",
      "147 clf :> predict([[pop(),1]]) tib. \\ ==> [0] (<class 'numpy.ndarray'>)\n",
      "148 clf :> predict([[pop(),1]]) tib. \\ ==> [0] (<class 'numpy.ndarray'>)\n",
      "149 clf :> predict([[pop(),1]]) tib. \\ ==> [0] (<class 'numpy.ndarray'>)\n",
      "150 clf :> predict([[pop(),1]]) tib. \\ ==> [0] (<class 'numpy.ndarray'>)\n",
      "151 clf :> predict([[pop(),1]]) tib. \\ ==> [0] (<class 'numpy.ndarray'>)\n",
      "152 clf :> predict([[pop(),1]]) tib. \\ ==> [0] (<class 'numpy.ndarray'>)\n",
      "153 clf :> predict([[pop(),1]]) tib. \\ ==> [0] (<class 'numpy.ndarray'>)\n",
      "154 clf :> predict([[pop(),1]]) tib. \\ ==> [0] (<class 'numpy.ndarray'>)\n",
      "155 clf :> predict([[pop(),1]]) tib. \\ ==> [0] (<class 'numpy.ndarray'>)\n",
      "156 clf :> predict([[pop(),1]]) tib. \\ ==> [0] (<class 'numpy.ndarray'>)\n",
      "157 clf :> predict([[pop(),1]]) tib. \\ ==> [0] (<class 'numpy.ndarray'>)\n",
      "158 clf :> predict([[pop(),1]]) tib. \\ ==> [0] (<class 'numpy.ndarray'>)\n",
      "159 clf :> predict([[pop(),1]]) tib. \\ ==> [0] (<class 'numpy.ndarray'>)\n",
      "160 clf :> predict([[pop(),1]]) tib. \\ ==> [0] (<class 'numpy.ndarray'>)\n",
      "161 clf :> predict([[pop(),1]]) tib. \\ ==> [0] (<class 'numpy.ndarray'>)\n",
      "162 clf :> predict([[pop(),1]]) tib. \\ ==> [0] (<class 'numpy.ndarray'>)\n",
      "163 clf :> predict([[pop(),1]]) tib. \\ ==> [0] (<class 'numpy.ndarray'>)\n",
      "164 clf :> predict([[pop(),1]]) tib. \\ ==> [0] (<class 'numpy.ndarray'>)\n",
      "165 clf :> predict([[pop(),1]]) tib. \\ ==> [0] (<class 'numpy.ndarray'>)\n",
      "166 clf :> predict([[pop(),1]]) tib. \\ ==> [0] (<class 'numpy.ndarray'>)\n",
      "167 clf :> predict([[pop(),1]]) tib. \\ ==> [0] (<class 'numpy.ndarray'>)\n",
      "168 clf :> predict([[pop(),1]]) tib. \\ ==> [0] (<class 'numpy.ndarray'>)\n",
      "169 clf :> predict([[pop(),1]]) tib. \\ ==> [0] (<class 'numpy.ndarray'>)\n",
      "170 clf :> predict([[pop(),1]]) tib. \\ ==> [0] (<class 'numpy.ndarray'>)\n",
      "171 clf :> predict([[pop(),1]]) tib. \\ ==> [0] (<class 'numpy.ndarray'>)\n",
      "172 clf :> predict([[pop(),1]]) tib. \\ ==> [0] (<class 'numpy.ndarray'>)\n",
      "173 clf :> predict([[pop(),1]]) tib. \\ ==> [0] (<class 'numpy.ndarray'>)\n",
      "174 clf :> predict([[pop(),1]]) tib. \\ ==> [0] (<class 'numpy.ndarray'>)\n",
      "175 clf :> predict([[pop(),1]]) tib. \\ ==> [0] (<class 'numpy.ndarray'>)\n",
      "176 clf :> predict([[pop(),1]]) tib. \\ ==> [0] (<class 'numpy.ndarray'>)\n",
      "177 clf :> predict([[pop(),1]]) tib. \\ ==> [0] (<class 'numpy.ndarray'>)\n",
      "178 clf :> predict([[pop(),1]]) tib. \\ ==> [0] (<class 'numpy.ndarray'>)\n",
      "179 clf :> predict([[pop(),1]]) tib. \\ ==> [0] (<class 'numpy.ndarray'>)\n",
      "180 clf :> predict([[pop(),1]]) tib. \\ ==> [0] (<class 'numpy.ndarray'>)\n",
      "181 clf :> predict([[pop(),1]]) tib. \\ ==> [0] (<class 'numpy.ndarray'>)\n",
      "182 clf :> predict([[pop(),1]]) tib. \\ ==> [0] (<class 'numpy.ndarray'>)\n",
      "183 clf :> predict([[pop(),1]]) tib. \\ ==> [0] (<class 'numpy.ndarray'>)\n",
      "184 clf :> predict([[pop(),1]]) tib. \\ ==> [0] (<class 'numpy.ndarray'>)\n",
      "185 clf :> predict([[pop(),1]]) tib. \\ ==> [0] (<class 'numpy.ndarray'>)\n",
      "186 clf :> predict([[pop(),1]]) tib. \\ ==> [0] (<class 'numpy.ndarray'>)\n",
      "187 clf :> predict([[pop(),1]]) tib. \\ ==> [0] (<class 'numpy.ndarray'>)\n",
      "188 clf :> predict([[pop(),1]]) tib. \\ ==> [0] (<class 'numpy.ndarray'>)\n",
      "189 clf :> predict([[pop(),1]]) tib. \\ ==> [0] (<class 'numpy.ndarray'>)\n",
      "190 clf :> predict([[pop(),1]]) tib. \\ ==> [0] (<class 'numpy.ndarray'>)\n",
      "191 clf :> predict([[pop(),1]]) tib. \\ ==> [0] (<class 'numpy.ndarray'>)\n",
      "192 clf :> predict([[pop(),1]]) tib. \\ ==> [0] (<class 'numpy.ndarray'>)\n",
      "193 clf :> predict([[pop(),1]]) tib. \\ ==> [0] (<class 'numpy.ndarray'>)\n",
      "194 clf :> predict([[pop(),1]]) tib. \\ ==> [0] (<class 'numpy.ndarray'>)\n",
      "195 clf :> predict([[pop(),1]]) tib. \\ ==> [0] (<class 'numpy.ndarray'>)\n",
      "196 clf :> predict([[pop(),1]]) tib. \\ ==> [0] (<class 'numpy.ndarray'>)\n",
      "197 clf :> predict([[pop(),1]]) tib. \\ ==> [0] (<class 'numpy.ndarray'>)\n",
      "198 clf :> predict([[pop(),1]]) tib. \\ ==> [0] (<class 'numpy.ndarray'>)\n",
      "199 clf :> predict([[pop(),1]]) tib. \\ ==> [0] (<class 'numpy.ndarray'>)\n",
      "200 clf :> predict([[pop(),1]]) tib. \\ ==> [0] (<class 'numpy.ndarray'>)\n"
     ]
    }
   ],
   "source": [
    "%%f\n",
    "\\ 隨便玩玩\n",
    "    clf :> predict([[120,0]]) tib. \n",
    "    clf :> predict([[190,1]]) tib. \n",
    "\n",
    "\\ 整個分布都打出來看看，好玩！\n",
    "    101 [for] 101 t@ - 100 + dup . space \n",
    "        clf :> predict([[pop(),0]]) tib. [next]\n",
    "    101 [for] 101 t@ - 100 + dup . space \n",
    "        clf :> predict([[pop(),1]]) tib. [next]"
   ]
  },
  {
   "cell_type": "markdown",
   "metadata": {},
   "source": [
    "#### 發現\n",
    "\n",
    "以上「整個分布都打出來看」結果發現這個 decision tree 根本只憑重量而已，表皮是不考慮的。\n",
    "\n",
    "#### 把 DT 畫出來看看"
   ]
  },
  {
   "cell_type": "code",
   "execution_count": 12,
   "metadata": {},
   "outputs": [],
   "source": [
    "# This cell creates %%csv cell magic. See http://ipython-books.github.io/14-creating-an-ipython-extension-with-custom-magic-commands\n",
    "import pandas as pd\n",
    "from io import StringIO\n",
    "from IPython.core.magic import (register_cell_magic)\n",
    "@register_cell_magic\n",
    "def csv(line, cell):\n",
    "    return pd.read_csv(StringIO(cell), sep=line)"
   ]
  },
  {
   "cell_type": "code",
   "execution_count": 37,
   "metadata": {},
   "outputs": [
    {
     "data": {
      "text/html": [
       "<div>\n",
       "<style>\n",
       "    .dataframe thead tr:only-child th {\n",
       "        text-align: right;\n",
       "    }\n",
       "\n",
       "    .dataframe thead th {\n",
       "        text-align: left;\n",
       "    }\n",
       "\n",
       "    .dataframe tbody tr th {\n",
       "        vertical-align: top;\n",
       "    }\n",
       "</style>\n",
       "<table border=\"1\" class=\"dataframe\">\n",
       "  <thead>\n",
       "    <tr style=\"text-align: right;\">\n",
       "      <th></th>\n",
       "      <th>Weight</th>\n",
       "      <th>Texture</th>\n",
       "      <th>Label</th>\n",
       "    </tr>\n",
       "  </thead>\n",
       "  <tbody>\n",
       "    <tr>\n",
       "      <th>0</th>\n",
       "      <td>140</td>\n",
       "      <td>1</td>\n",
       "      <td>0</td>\n",
       "    </tr>\n",
       "    <tr>\n",
       "      <th>1</th>\n",
       "      <td>130</td>\n",
       "      <td>1</td>\n",
       "      <td>0</td>\n",
       "    </tr>\n",
       "    <tr>\n",
       "      <th>2</th>\n",
       "      <td>150</td>\n",
       "      <td>0</td>\n",
       "      <td>1</td>\n",
       "    </tr>\n",
       "    <tr>\n",
       "      <th>3</th>\n",
       "      <td>170</td>\n",
       "      <td>0</td>\n",
       "      <td>1</td>\n",
       "    </tr>\n",
       "  </tbody>\n",
       "</table>\n",
       "</div>"
      ],
      "text/plain": [
       "   Weight   Texture   Label\n",
       "0     140         1       0\n",
       "1     130         1       0\n",
       "2     150         0       1\n",
       "3     170         0       1"
      ]
     },
     "execution_count": 37,
     "metadata": {},
     "output_type": "execute_result"
    }
   ],
   "source": [
    "%%csv ,\n",
    "Weight, Texture, Label\n",
    "140, 1, 0\n",
    "130, 1, 0\n",
    "150, 0, 1\n",
    "170, 0, 1\n"
   ]
  },
  {
   "cell_type": "code",
   "execution_count": 38,
   "metadata": {},
   "outputs": [
    {
     "data": {
      "text/html": [
       "<div>\n",
       "<style>\n",
       "    .dataframe thead tr:only-child th {\n",
       "        text-align: right;\n",
       "    }\n",
       "\n",
       "    .dataframe thead th {\n",
       "        text-align: left;\n",
       "    }\n",
       "\n",
       "    .dataframe tbody tr th {\n",
       "        vertical-align: top;\n",
       "    }\n",
       "</style>\n",
       "<table border=\"1\" class=\"dataframe\">\n",
       "  <thead>\n",
       "    <tr style=\"text-align: right;\">\n",
       "      <th></th>\n",
       "      <th>Weight</th>\n",
       "      <th>Texture</th>\n",
       "      <th>Label</th>\n",
       "    </tr>\n",
       "  </thead>\n",
       "  <tbody>\n",
       "    <tr>\n",
       "      <th>0</th>\n",
       "      <td>140</td>\n",
       "      <td>1</td>\n",
       "      <td>0</td>\n",
       "    </tr>\n",
       "    <tr>\n",
       "      <th>1</th>\n",
       "      <td>130</td>\n",
       "      <td>1</td>\n",
       "      <td>0</td>\n",
       "    </tr>\n",
       "    <tr>\n",
       "      <th>2</th>\n",
       "      <td>150</td>\n",
       "      <td>0</td>\n",
       "      <td>1</td>\n",
       "    </tr>\n",
       "    <tr>\n",
       "      <th>3</th>\n",
       "      <td>170</td>\n",
       "      <td>0</td>\n",
       "      <td>1</td>\n",
       "    </tr>\n",
       "  </tbody>\n",
       "</table>\n",
       "</div>"
      ],
      "text/plain": [
       "   Weight   Texture   Label\n",
       "0     140         1       0\n",
       "1     130         1       0\n",
       "2     150         0       1\n",
       "3     170         0       1"
      ]
     },
     "execution_count": 38,
     "metadata": {},
     "output_type": "execute_result"
    }
   ],
   "source": [
    "fruits = _ \n",
    "fruits"
   ]
  },
  {
   "cell_type": "code",
   "execution_count": 47,
   "metadata": {},
   "outputs": [
    {
     "data": {
      "text/plain": [
       "Index(['Weight', ' Texture', ' Label'], dtype='object')"
      ]
     },
     "execution_count": 47,
     "metadata": {},
     "output_type": "execute_result"
    }
   ],
   "source": [
    "fruits.keys()"
   ]
  },
  {
   "cell_type": "code",
   "execution_count": 45,
   "metadata": {},
   "outputs": [
    {
     "data": {
      "text/plain": [
       "0    140\n",
       "1    130\n",
       "2    150\n",
       "3    170\n",
       "Name: Weight, dtype: int64"
      ]
     },
     "execution_count": 45,
     "metadata": {},
     "output_type": "execute_result"
    }
   ],
   "source": [
    "fruits['Weight']"
   ]
  },
  {
   "cell_type": "code",
   "execution_count": 65,
   "metadata": {},
   "outputs": [
    {
     "data": {
      "text/html": [
       "<div>\n",
       "<style>\n",
       "    .dataframe thead tr:only-child th {\n",
       "        text-align: right;\n",
       "    }\n",
       "\n",
       "    .dataframe thead th {\n",
       "        text-align: left;\n",
       "    }\n",
       "\n",
       "    .dataframe tbody tr th {\n",
       "        vertical-align: top;\n",
       "    }\n",
       "</style>\n",
       "<table border=\"1\" class=\"dataframe\">\n",
       "  <thead>\n",
       "    <tr style=\"text-align: right;\">\n",
       "      <th></th>\n",
       "      <th>Weight</th>\n",
       "      <th>Texture</th>\n",
       "      <th>Label</th>\n",
       "    </tr>\n",
       "  </thead>\n",
       "  <tbody>\n",
       "    <tr>\n",
       "      <th>0</th>\n",
       "      <td>140</td>\n",
       "      <td>1</td>\n",
       "      <td>0</td>\n",
       "    </tr>\n",
       "    <tr>\n",
       "      <th>1</th>\n",
       "      <td>130</td>\n",
       "      <td>1</td>\n",
       "      <td>0</td>\n",
       "    </tr>\n",
       "  </tbody>\n",
       "</table>\n",
       "</div>"
      ],
      "text/plain": [
       "   Weight   Texture   Label\n",
       "0     140         1       0\n",
       "1     130         1       0"
      ]
     },
     "execution_count": 65,
     "metadata": {},
     "output_type": "execute_result"
    }
   ],
   "source": [
    "fruits[:2][:3]"
   ]
  },
  {
   "cell_type": "code",
   "execution_count": 46,
   "metadata": {},
   "outputs": [
    {
     "ename": "KeyError",
     "evalue": "'Texture'",
     "output_type": "error",
     "traceback": [
      "\u001b[1;31m---------------------------------------------------------------------------\u001b[0m",
      "\u001b[1;31mKeyError\u001b[0m                                  Traceback (most recent call last)",
      "\u001b[1;32mc:\\users\\hcche\\appdata\\local\\programs\\python\\python36\\lib\\site-packages\\pandas\\core\\indexes\\base.py\u001b[0m in \u001b[0;36mget_loc\u001b[1;34m(self, key, method, tolerance)\u001b[0m\n\u001b[0;32m   2392\u001b[0m             \u001b[1;32mtry\u001b[0m\u001b[1;33m:\u001b[0m\u001b[1;33m\u001b[0m\u001b[0m\n\u001b[1;32m-> 2393\u001b[1;33m                 \u001b[1;32mreturn\u001b[0m \u001b[0mself\u001b[0m\u001b[1;33m.\u001b[0m\u001b[0m_engine\u001b[0m\u001b[1;33m.\u001b[0m\u001b[0mget_loc\u001b[0m\u001b[1;33m(\u001b[0m\u001b[0mkey\u001b[0m\u001b[1;33m)\u001b[0m\u001b[1;33m\u001b[0m\u001b[0m\n\u001b[0m\u001b[0;32m   2394\u001b[0m             \u001b[1;32mexcept\u001b[0m \u001b[0mKeyError\u001b[0m\u001b[1;33m:\u001b[0m\u001b[1;33m\u001b[0m\u001b[0m\n",
      "\u001b[1;32mpandas\\_libs\\index.pyx\u001b[0m in \u001b[0;36mpandas._libs.index.IndexEngine.get_loc (pandas\\_libs\\index.c:5239)\u001b[1;34m()\u001b[0m\n",
      "\u001b[1;32mpandas\\_libs\\index.pyx\u001b[0m in \u001b[0;36mpandas._libs.index.IndexEngine.get_loc (pandas\\_libs\\index.c:5085)\u001b[1;34m()\u001b[0m\n",
      "\u001b[1;32mpandas\\_libs\\hashtable_class_helper.pxi\u001b[0m in \u001b[0;36mpandas._libs.hashtable.PyObjectHashTable.get_item (pandas\\_libs\\hashtable.c:20405)\u001b[1;34m()\u001b[0m\n",
      "\u001b[1;32mpandas\\_libs\\hashtable_class_helper.pxi\u001b[0m in \u001b[0;36mpandas._libs.hashtable.PyObjectHashTable.get_item (pandas\\_libs\\hashtable.c:20359)\u001b[1;34m()\u001b[0m\n",
      "\u001b[1;31mKeyError\u001b[0m: 'Texture'",
      "\nDuring handling of the above exception, another exception occurred:\n",
      "\u001b[1;31mKeyError\u001b[0m                                  Traceback (most recent call last)",
      "\u001b[1;32m<ipython-input-46-5250068eb12b>\u001b[0m in \u001b[0;36m<module>\u001b[1;34m()\u001b[0m\n\u001b[1;32m----> 1\u001b[1;33m \u001b[0mfruits\u001b[0m\u001b[1;33m[\u001b[0m\u001b[1;34m'Texture'\u001b[0m\u001b[1;33m]\u001b[0m\u001b[1;33m\u001b[0m\u001b[0m\n\u001b[0m",
      "\u001b[1;32mc:\\users\\hcche\\appdata\\local\\programs\\python\\python36\\lib\\site-packages\\pandas\\core\\frame.py\u001b[0m in \u001b[0;36m__getitem__\u001b[1;34m(self, key)\u001b[0m\n\u001b[0;32m   2060\u001b[0m             \u001b[1;32mreturn\u001b[0m \u001b[0mself\u001b[0m\u001b[1;33m.\u001b[0m\u001b[0m_getitem_multilevel\u001b[0m\u001b[1;33m(\u001b[0m\u001b[0mkey\u001b[0m\u001b[1;33m)\u001b[0m\u001b[1;33m\u001b[0m\u001b[0m\n\u001b[0;32m   2061\u001b[0m         \u001b[1;32melse\u001b[0m\u001b[1;33m:\u001b[0m\u001b[1;33m\u001b[0m\u001b[0m\n\u001b[1;32m-> 2062\u001b[1;33m             \u001b[1;32mreturn\u001b[0m \u001b[0mself\u001b[0m\u001b[1;33m.\u001b[0m\u001b[0m_getitem_column\u001b[0m\u001b[1;33m(\u001b[0m\u001b[0mkey\u001b[0m\u001b[1;33m)\u001b[0m\u001b[1;33m\u001b[0m\u001b[0m\n\u001b[0m\u001b[0;32m   2063\u001b[0m \u001b[1;33m\u001b[0m\u001b[0m\n\u001b[0;32m   2064\u001b[0m     \u001b[1;32mdef\u001b[0m \u001b[0m_getitem_column\u001b[0m\u001b[1;33m(\u001b[0m\u001b[0mself\u001b[0m\u001b[1;33m,\u001b[0m \u001b[0mkey\u001b[0m\u001b[1;33m)\u001b[0m\u001b[1;33m:\u001b[0m\u001b[1;33m\u001b[0m\u001b[0m\n",
      "\u001b[1;32mc:\\users\\hcche\\appdata\\local\\programs\\python\\python36\\lib\\site-packages\\pandas\\core\\frame.py\u001b[0m in \u001b[0;36m_getitem_column\u001b[1;34m(self, key)\u001b[0m\n\u001b[0;32m   2067\u001b[0m         \u001b[1;31m# get column\u001b[0m\u001b[1;33m\u001b[0m\u001b[1;33m\u001b[0m\u001b[0m\n\u001b[0;32m   2068\u001b[0m         \u001b[1;32mif\u001b[0m \u001b[0mself\u001b[0m\u001b[1;33m.\u001b[0m\u001b[0mcolumns\u001b[0m\u001b[1;33m.\u001b[0m\u001b[0mis_unique\u001b[0m\u001b[1;33m:\u001b[0m\u001b[1;33m\u001b[0m\u001b[0m\n\u001b[1;32m-> 2069\u001b[1;33m             \u001b[1;32mreturn\u001b[0m \u001b[0mself\u001b[0m\u001b[1;33m.\u001b[0m\u001b[0m_get_item_cache\u001b[0m\u001b[1;33m(\u001b[0m\u001b[0mkey\u001b[0m\u001b[1;33m)\u001b[0m\u001b[1;33m\u001b[0m\u001b[0m\n\u001b[0m\u001b[0;32m   2070\u001b[0m \u001b[1;33m\u001b[0m\u001b[0m\n\u001b[0;32m   2071\u001b[0m         \u001b[1;31m# duplicate columns & possible reduce dimensionality\u001b[0m\u001b[1;33m\u001b[0m\u001b[1;33m\u001b[0m\u001b[0m\n",
      "\u001b[1;32mc:\\users\\hcche\\appdata\\local\\programs\\python\\python36\\lib\\site-packages\\pandas\\core\\generic.py\u001b[0m in \u001b[0;36m_get_item_cache\u001b[1;34m(self, item)\u001b[0m\n\u001b[0;32m   1532\u001b[0m         \u001b[0mres\u001b[0m \u001b[1;33m=\u001b[0m \u001b[0mcache\u001b[0m\u001b[1;33m.\u001b[0m\u001b[0mget\u001b[0m\u001b[1;33m(\u001b[0m\u001b[0mitem\u001b[0m\u001b[1;33m)\u001b[0m\u001b[1;33m\u001b[0m\u001b[0m\n\u001b[0;32m   1533\u001b[0m         \u001b[1;32mif\u001b[0m \u001b[0mres\u001b[0m \u001b[1;32mis\u001b[0m \u001b[1;32mNone\u001b[0m\u001b[1;33m:\u001b[0m\u001b[1;33m\u001b[0m\u001b[0m\n\u001b[1;32m-> 1534\u001b[1;33m             \u001b[0mvalues\u001b[0m \u001b[1;33m=\u001b[0m \u001b[0mself\u001b[0m\u001b[1;33m.\u001b[0m\u001b[0m_data\u001b[0m\u001b[1;33m.\u001b[0m\u001b[0mget\u001b[0m\u001b[1;33m(\u001b[0m\u001b[0mitem\u001b[0m\u001b[1;33m)\u001b[0m\u001b[1;33m\u001b[0m\u001b[0m\n\u001b[0m\u001b[0;32m   1535\u001b[0m             \u001b[0mres\u001b[0m \u001b[1;33m=\u001b[0m \u001b[0mself\u001b[0m\u001b[1;33m.\u001b[0m\u001b[0m_box_item_values\u001b[0m\u001b[1;33m(\u001b[0m\u001b[0mitem\u001b[0m\u001b[1;33m,\u001b[0m \u001b[0mvalues\u001b[0m\u001b[1;33m)\u001b[0m\u001b[1;33m\u001b[0m\u001b[0m\n\u001b[0;32m   1536\u001b[0m             \u001b[0mcache\u001b[0m\u001b[1;33m[\u001b[0m\u001b[0mitem\u001b[0m\u001b[1;33m]\u001b[0m \u001b[1;33m=\u001b[0m \u001b[0mres\u001b[0m\u001b[1;33m\u001b[0m\u001b[0m\n",
      "\u001b[1;32mc:\\users\\hcche\\appdata\\local\\programs\\python\\python36\\lib\\site-packages\\pandas\\core\\internals.py\u001b[0m in \u001b[0;36mget\u001b[1;34m(self, item, fastpath)\u001b[0m\n\u001b[0;32m   3588\u001b[0m \u001b[1;33m\u001b[0m\u001b[0m\n\u001b[0;32m   3589\u001b[0m             \u001b[1;32mif\u001b[0m \u001b[1;32mnot\u001b[0m \u001b[0misnull\u001b[0m\u001b[1;33m(\u001b[0m\u001b[0mitem\u001b[0m\u001b[1;33m)\u001b[0m\u001b[1;33m:\u001b[0m\u001b[1;33m\u001b[0m\u001b[0m\n\u001b[1;32m-> 3590\u001b[1;33m                 \u001b[0mloc\u001b[0m \u001b[1;33m=\u001b[0m \u001b[0mself\u001b[0m\u001b[1;33m.\u001b[0m\u001b[0mitems\u001b[0m\u001b[1;33m.\u001b[0m\u001b[0mget_loc\u001b[0m\u001b[1;33m(\u001b[0m\u001b[0mitem\u001b[0m\u001b[1;33m)\u001b[0m\u001b[1;33m\u001b[0m\u001b[0m\n\u001b[0m\u001b[0;32m   3591\u001b[0m             \u001b[1;32melse\u001b[0m\u001b[1;33m:\u001b[0m\u001b[1;33m\u001b[0m\u001b[0m\n\u001b[0;32m   3592\u001b[0m                 \u001b[0mindexer\u001b[0m \u001b[1;33m=\u001b[0m \u001b[0mnp\u001b[0m\u001b[1;33m.\u001b[0m\u001b[0marange\u001b[0m\u001b[1;33m(\u001b[0m\u001b[0mlen\u001b[0m\u001b[1;33m(\u001b[0m\u001b[0mself\u001b[0m\u001b[1;33m.\u001b[0m\u001b[0mitems\u001b[0m\u001b[1;33m)\u001b[0m\u001b[1;33m)\u001b[0m\u001b[1;33m[\u001b[0m\u001b[0misnull\u001b[0m\u001b[1;33m(\u001b[0m\u001b[0mself\u001b[0m\u001b[1;33m.\u001b[0m\u001b[0mitems\u001b[0m\u001b[1;33m)\u001b[0m\u001b[1;33m]\u001b[0m\u001b[1;33m\u001b[0m\u001b[0m\n",
      "\u001b[1;32mc:\\users\\hcche\\appdata\\local\\programs\\python\\python36\\lib\\site-packages\\pandas\\core\\indexes\\base.py\u001b[0m in \u001b[0;36mget_loc\u001b[1;34m(self, key, method, tolerance)\u001b[0m\n\u001b[0;32m   2393\u001b[0m                 \u001b[1;32mreturn\u001b[0m \u001b[0mself\u001b[0m\u001b[1;33m.\u001b[0m\u001b[0m_engine\u001b[0m\u001b[1;33m.\u001b[0m\u001b[0mget_loc\u001b[0m\u001b[1;33m(\u001b[0m\u001b[0mkey\u001b[0m\u001b[1;33m)\u001b[0m\u001b[1;33m\u001b[0m\u001b[0m\n\u001b[0;32m   2394\u001b[0m             \u001b[1;32mexcept\u001b[0m \u001b[0mKeyError\u001b[0m\u001b[1;33m:\u001b[0m\u001b[1;33m\u001b[0m\u001b[0m\n\u001b[1;32m-> 2395\u001b[1;33m                 \u001b[1;32mreturn\u001b[0m \u001b[0mself\u001b[0m\u001b[1;33m.\u001b[0m\u001b[0m_engine\u001b[0m\u001b[1;33m.\u001b[0m\u001b[0mget_loc\u001b[0m\u001b[1;33m(\u001b[0m\u001b[0mself\u001b[0m\u001b[1;33m.\u001b[0m\u001b[0m_maybe_cast_indexer\u001b[0m\u001b[1;33m(\u001b[0m\u001b[0mkey\u001b[0m\u001b[1;33m)\u001b[0m\u001b[1;33m)\u001b[0m\u001b[1;33m\u001b[0m\u001b[0m\n\u001b[0m\u001b[0;32m   2396\u001b[0m \u001b[1;33m\u001b[0m\u001b[0m\n\u001b[0;32m   2397\u001b[0m         \u001b[0mindexer\u001b[0m \u001b[1;33m=\u001b[0m \u001b[0mself\u001b[0m\u001b[1;33m.\u001b[0m\u001b[0mget_indexer\u001b[0m\u001b[1;33m(\u001b[0m\u001b[1;33m[\u001b[0m\u001b[0mkey\u001b[0m\u001b[1;33m]\u001b[0m\u001b[1;33m,\u001b[0m \u001b[0mmethod\u001b[0m\u001b[1;33m=\u001b[0m\u001b[0mmethod\u001b[0m\u001b[1;33m,\u001b[0m \u001b[0mtolerance\u001b[0m\u001b[1;33m=\u001b[0m\u001b[0mtolerance\u001b[0m\u001b[1;33m)\u001b[0m\u001b[1;33m\u001b[0m\u001b[0m\n",
      "\u001b[1;32mpandas\\_libs\\index.pyx\u001b[0m in \u001b[0;36mpandas._libs.index.IndexEngine.get_loc (pandas\\_libs\\index.c:5239)\u001b[1;34m()\u001b[0m\n",
      "\u001b[1;32mpandas\\_libs\\index.pyx\u001b[0m in \u001b[0;36mpandas._libs.index.IndexEngine.get_loc (pandas\\_libs\\index.c:5085)\u001b[1;34m()\u001b[0m\n",
      "\u001b[1;32mpandas\\_libs\\hashtable_class_helper.pxi\u001b[0m in \u001b[0;36mpandas._libs.hashtable.PyObjectHashTable.get_item (pandas\\_libs\\hashtable.c:20405)\u001b[1;34m()\u001b[0m\n",
      "\u001b[1;32mpandas\\_libs\\hashtable_class_helper.pxi\u001b[0m in \u001b[0;36mpandas._libs.hashtable.PyObjectHashTable.get_item (pandas\\_libs\\hashtable.c:20359)\u001b[1;34m()\u001b[0m\n",
      "\u001b[1;31mKeyError\u001b[0m: 'Texture'"
     ]
    }
   ],
   "source": [
    "fruits['Texture']"
   ]
  },
  {
   "cell_type": "code",
   "execution_count": 43,
   "metadata": {},
   "outputs": [
    {
     "name": "stdout",
     "output_type": "stream",
     "text": [
      "fruits\n",
      "OK .\n",
      "   Weight   Texture   Label\n",
      "0     140         1       0\n",
      "1     130         1       0\n",
      "2     150         0       1\n",
      "3     170         0       1OK fruits dir . cr\n",
      "['T', 'Weight', '_AXIS_ALIASES', '_AXIS_IALIASES', '_AXIS_LEN', '_AXIS_NAMES', '_AXIS_NUMBERS', '_AXIS_ORDERS', '_AXIS_REVERSED', '_AXIS_SLICEMAP', '__abs__', '__add__', '__and__', '__array__', '__array_wrap__', '__bool__', '__bytes__', '__class__', '__contains__', '__copy__', '__deepcopy__', '__delattr__', '__delitem__', '__dict__', '__dir__', '__div__', '__doc__', '__eq__', '__finalize__', '__floordiv__', '__format__', '__ge__', '__getattr__', '__getattribute__', '__getitem__', '__getstate__', '__gt__', '__hash__', '__iadd__', '__imul__', '__init__', '__init_subclass__', '__invert__', '__ipow__', '__isub__', '__iter__', '__itruediv__', '__le__', '__len__', '__lt__', '__mod__', '__module__', '__mul__', '__ne__', '__neg__', '__new__', '__nonzero__', '__or__', '__pow__', '__radd__', '__rand__', '__rdiv__', '__reduce__', '__reduce_ex__', '__repr__', '__rfloordiv__', '__rmod__', '__rmul__', '__ror__', '__round__', '__rpow__', '__rsub__', '__rtruediv__', '__rxor__', '__setattr__', '__setitem__', '__setstate__', '__sizeof__', '__str__', '__sub__', '__subclasshook__', '__truediv__', '__unicode__', '__weakref__', '__xor__', '_accessors', '_add_numeric_operations', '_add_series_only_operations', '_add_series_or_dataframe_operations', '_agg_by_level', '_agg_doc', '_aggregate', '_aggregate_multiple_funcs', '_align_frame', '_align_series', '_apply_broadcast', '_apply_empty_result', '_apply_raw', '_apply_standard', '_at', '_box_col_values', '_box_item_values', '_builtin_table', '_check_inplace_setting', '_check_is_chained_assignment_possible', '_check_percentile', '_check_setitem_copy', '_clear_item_cache', '_combine_const', '_combine_frame', '_combine_match_columns', '_combine_match_index', '_combine_series', '_combine_series_infer', '_compare_frame', '_compare_frame_evaluate', '_consolidate', '_consolidate_inplace', '_construct_axes_dict', '_construct_axes_dict_for_slice', '_construct_axes_dict_from', '_construct_axes_from_arguments', '_constructor', '_constructor_expanddim', '_constructor_sliced', '_convert', '_count_level', '_create_indexer', '_cython_table', '_dir_additions', '_dir_deletions', '_ensure_valid_index', '_expand_axes', '_flex_compare_frame', '_from_arrays', '_from_axes', '_get_agg_axis', '_get_axis', '_get_axis_name', '_get_axis_number', '_get_axis_resolvers', '_get_block_manager_axis', '_get_bool_data', '_get_cacher', '_get_index_resolvers', '_get_item_cache', '_get_numeric_data', '_get_values', '_getitem_array', '_getitem_column', '_getitem_frame', '_getitem_multilevel', '_getitem_slice', '_gotitem', '_iat', '_iget_item_cache', '_iloc', '_indexed_same', '_info_axis', '_info_axis_name', '_info_axis_number', '_info_repr', '_init_dict', '_init_mgr', '_init_ndarray', '_internal_names', '_internal_names_set', '_is_builtin_func', '_is_cached', '_is_cython_func', '_is_datelike_mixed_type', '_is_mixed_type', '_is_numeric_mixed_type', '_is_view', '_ix', '_ixs', '_join_compat', '_loc', '_maybe_cache_changed', '_maybe_update_cacher', '_metadata', '_needs_reindex_multi', '_obj_with_exclusions', '_protect_consolidate', '_reduce', '_reindex_axes', '_reindex_axis', '_reindex_columns', '_reindex_index', '_reindex_multi', '_reindex_with_indexers', '_repr_data_resource_', '_repr_fits_horizontal_', '_repr_fits_vertical_', '_repr_html_', '_repr_latex_', '_reset_cache', '_reset_cacher', '_sanitize_column', '_selected_obj', '_selection', '_selection_list', '_selection_name', '_series', '_set_as_cached', '_set_axis', '_set_axis_name', '_set_is_copy', '_set_item', '_setitem_array', '_setitem_frame', '_setitem_slice', '_setup_axes', '_shallow_copy', '_slice', '_stat_axis', '_stat_axis_name', '_stat_axis_number', '_try_aggregate_string_function', '_typ', '_unpickle_frame_compat', '_unpickle_matrix_compat', '_update_inplace', '_validate_dtype', '_values', '_where', '_xs', 'abs', 'add', 'add_prefix', 'add_suffix', 'agg', 'aggregate', 'align', 'all', 'any', 'append', 'apply', 'applymap', 'as_blocks', 'as_matrix', 'asfreq', 'asof', 'assign', 'astype', 'at', 'at_time', 'axes', 'between_time', 'bfill', 'blocks', 'bool', 'boxplot', 'clip', 'clip_lower', 'clip_upper', 'columns', 'combine', 'combine_first', 'compound', 'consolidate', 'convert_objects', 'copy', 'corr', 'corrwith', 'count', 'cov', 'cummax', 'cummin', 'cumprod', 'cumsum', 'describe', 'diff', 'div', 'divide', 'dot', 'drop', 'drop_duplicates', 'dropna', 'dtypes', 'duplicated', 'empty', 'eq', 'equals', 'eval', 'ewm', 'expanding', 'ffill', 'fillna', 'filter', 'first', 'first_valid_index', 'floordiv', 'from_csv', 'from_dict', 'from_items', 'from_records', 'ftypes', 'ge', 'get', 'get_dtype_counts', 'get_ftype_counts', 'get_value', 'get_values', 'groupby', 'gt', 'head', 'hist', 'iat', 'idxmax', 'idxmin', 'iloc', 'index', 'info', 'insert', 'interpolate', 'is_copy', 'isin', 'isnull', 'items', 'iteritems', 'iterrows', 'itertuples', 'ix', 'join', 'keys', 'kurt', 'kurtosis', 'last', 'last_valid_index', 'le', 'loc', 'lookup', 'lt', 'mad', 'mask', 'max', 'mean', 'median', 'melt', 'memory_usage', 'merge', 'min', 'mod', 'mode', 'mul', 'multiply', 'ndim', 'ne', 'nlargest', 'notnull', 'nsmallest', 'nunique', 'pct_change', 'pipe', 'pivot', 'pivot_table', 'plot', 'pop', 'pow', 'prod', 'product', 'quantile', 'query', 'radd', 'rank', 'rdiv', 'reindex', 'reindex_axis', 'reindex_like', 'rename', 'rename_axis', 'reorder_levels', 'replace', 'resample', 'reset_index', 'rfloordiv', 'rmod', 'rmul', 'rolling', 'round', 'rpow', 'rsub', 'rtruediv', 'sample', 'select', 'select_dtypes', 'sem', 'set_axis', 'set_index', 'set_value', 'shape', 'shift', 'size', 'skew', 'slice_shift', 'sort_index', 'sort_values', 'sortlevel', 'squeeze', 'stack', 'std', 'style', 'sub', 'subtract', 'sum', 'swapaxes', 'swaplevel', 'tail', 'take', 'to_clipboard', 'to_csv', 'to_dense', 'to_dict', 'to_excel', 'to_feather', 'to_gbq', 'to_hdf', 'to_html', 'to_json', 'to_latex', 'to_msgpack', 'to_panel', 'to_period', 'to_pickle', 'to_records', 'to_sparse', 'to_sql', 'to_stata', 'to_string', 'to_timestamp', 'to_xarray', 'transform', 'transpose', 'truediv', 'truncate', 'tshift', 'tz_convert', 'tz_localize', 'unstack', 'update', 'values', 'var', 'where', 'xs']\n",
      "OK fruits :> keys . cr\n",
      "<bound method NDFrame.keys of    Weight   Texture   Label\n",
      "0     140         1       0\n",
      "1     130         1       0\n",
      "2     150         0       1\n",
      "3     170         0       1>\n",
      "OK fruits :> keys type . cr\n",
      "<class 'method'>\n",
      "OK fruits :> keys()\n",
      "OK .\n",
      "Index(['Weight', ' Texture', ' Label'], dtype='object')OK fruits :> ['Weight'] . cr\n",
      "0    140\n",
      "1    130\n",
      "2    150\n",
      "3    170\n",
      "Name: Weight, dtype: int64\n",
      "OK cr\n",
      "\n",
      "OK fruits :> ['Texture'] . cr\n",
      "\n",
      "Failed in </py> (compiling=False): 'Texture'\n",
      "Body:\n",
      "push(pop()['Texture'])\n",
      "OK  fruits :> ['Weight'] . cr\n",
      "0    140\n",
      "1    130\n",
      "2    150\n",
      "3    170\n",
      "Name: Weight, dtype: int64\n",
      "OK  fruits :> ['Label'] . cr\n",
      "\n",
      "Failed in </py> (compiling=False): 'Label'\n",
      "Body:\n",
      "push(pop()['Label'])\n",
      "OK exit\n",
      "OK "
     ]
    }
   ],
   "source": [
    "%%f\n",
    "__main__ :> fruits constant fruits // ( -- data-frame )\n",
    "py: ok()"
   ]
  },
  {
   "cell_type": "code",
   "execution_count": 41,
   "metadata": {},
   "outputs": [
    {
     "ename": "KeyError",
     "evalue": "'Texture'",
     "output_type": "error",
     "traceback": [
      "\u001b[1;31m---------------------------------------------------------------------------\u001b[0m",
      "\u001b[1;31mKeyError\u001b[0m                                  Traceback (most recent call last)",
      "\u001b[1;32mc:\\users\\hcche\\appdata\\local\\programs\\python\\python36\\lib\\site-packages\\pandas\\core\\indexes\\base.py\u001b[0m in \u001b[0;36mget_loc\u001b[1;34m(self, key, method, tolerance)\u001b[0m\n\u001b[0;32m   2392\u001b[0m             \u001b[1;32mtry\u001b[0m\u001b[1;33m:\u001b[0m\u001b[1;33m\u001b[0m\u001b[0m\n\u001b[1;32m-> 2393\u001b[1;33m                 \u001b[1;32mreturn\u001b[0m \u001b[0mself\u001b[0m\u001b[1;33m.\u001b[0m\u001b[0m_engine\u001b[0m\u001b[1;33m.\u001b[0m\u001b[0mget_loc\u001b[0m\u001b[1;33m(\u001b[0m\u001b[0mkey\u001b[0m\u001b[1;33m)\u001b[0m\u001b[1;33m\u001b[0m\u001b[0m\n\u001b[0m\u001b[0;32m   2394\u001b[0m             \u001b[1;32mexcept\u001b[0m \u001b[0mKeyError\u001b[0m\u001b[1;33m:\u001b[0m\u001b[1;33m\u001b[0m\u001b[0m\n",
      "\u001b[1;32mpandas\\_libs\\index.pyx\u001b[0m in \u001b[0;36mpandas._libs.index.IndexEngine.get_loc (pandas\\_libs\\index.c:5239)\u001b[1;34m()\u001b[0m\n",
      "\u001b[1;32mpandas\\_libs\\index.pyx\u001b[0m in \u001b[0;36mpandas._libs.index.IndexEngine.get_loc (pandas\\_libs\\index.c:5085)\u001b[1;34m()\u001b[0m\n",
      "\u001b[1;32mpandas\\_libs\\hashtable_class_helper.pxi\u001b[0m in \u001b[0;36mpandas._libs.hashtable.PyObjectHashTable.get_item (pandas\\_libs\\hashtable.c:20405)\u001b[1;34m()\u001b[0m\n",
      "\u001b[1;32mpandas\\_libs\\hashtable_class_helper.pxi\u001b[0m in \u001b[0;36mpandas._libs.hashtable.PyObjectHashTable.get_item (pandas\\_libs\\hashtable.c:20359)\u001b[1;34m()\u001b[0m\n",
      "\u001b[1;31mKeyError\u001b[0m: 'Texture'",
      "\nDuring handling of the above exception, another exception occurred:\n",
      "\u001b[1;31mKeyError\u001b[0m                                  Traceback (most recent call last)",
      "\u001b[1;32m<ipython-input-41-5250068eb12b>\u001b[0m in \u001b[0;36m<module>\u001b[1;34m()\u001b[0m\n\u001b[1;32m----> 1\u001b[1;33m \u001b[0mfruits\u001b[0m\u001b[1;33m[\u001b[0m\u001b[1;34m'Texture'\u001b[0m\u001b[1;33m]\u001b[0m\u001b[1;33m\u001b[0m\u001b[0m\n\u001b[0m",
      "\u001b[1;32mc:\\users\\hcche\\appdata\\local\\programs\\python\\python36\\lib\\site-packages\\pandas\\core\\frame.py\u001b[0m in \u001b[0;36m__getitem__\u001b[1;34m(self, key)\u001b[0m\n\u001b[0;32m   2060\u001b[0m             \u001b[1;32mreturn\u001b[0m \u001b[0mself\u001b[0m\u001b[1;33m.\u001b[0m\u001b[0m_getitem_multilevel\u001b[0m\u001b[1;33m(\u001b[0m\u001b[0mkey\u001b[0m\u001b[1;33m)\u001b[0m\u001b[1;33m\u001b[0m\u001b[0m\n\u001b[0;32m   2061\u001b[0m         \u001b[1;32melse\u001b[0m\u001b[1;33m:\u001b[0m\u001b[1;33m\u001b[0m\u001b[0m\n\u001b[1;32m-> 2062\u001b[1;33m             \u001b[1;32mreturn\u001b[0m \u001b[0mself\u001b[0m\u001b[1;33m.\u001b[0m\u001b[0m_getitem_column\u001b[0m\u001b[1;33m(\u001b[0m\u001b[0mkey\u001b[0m\u001b[1;33m)\u001b[0m\u001b[1;33m\u001b[0m\u001b[0m\n\u001b[0m\u001b[0;32m   2063\u001b[0m \u001b[1;33m\u001b[0m\u001b[0m\n\u001b[0;32m   2064\u001b[0m     \u001b[1;32mdef\u001b[0m \u001b[0m_getitem_column\u001b[0m\u001b[1;33m(\u001b[0m\u001b[0mself\u001b[0m\u001b[1;33m,\u001b[0m \u001b[0mkey\u001b[0m\u001b[1;33m)\u001b[0m\u001b[1;33m:\u001b[0m\u001b[1;33m\u001b[0m\u001b[0m\n",
      "\u001b[1;32mc:\\users\\hcche\\appdata\\local\\programs\\python\\python36\\lib\\site-packages\\pandas\\core\\frame.py\u001b[0m in \u001b[0;36m_getitem_column\u001b[1;34m(self, key)\u001b[0m\n\u001b[0;32m   2067\u001b[0m         \u001b[1;31m# get column\u001b[0m\u001b[1;33m\u001b[0m\u001b[1;33m\u001b[0m\u001b[0m\n\u001b[0;32m   2068\u001b[0m         \u001b[1;32mif\u001b[0m \u001b[0mself\u001b[0m\u001b[1;33m.\u001b[0m\u001b[0mcolumns\u001b[0m\u001b[1;33m.\u001b[0m\u001b[0mis_unique\u001b[0m\u001b[1;33m:\u001b[0m\u001b[1;33m\u001b[0m\u001b[0m\n\u001b[1;32m-> 2069\u001b[1;33m             \u001b[1;32mreturn\u001b[0m \u001b[0mself\u001b[0m\u001b[1;33m.\u001b[0m\u001b[0m_get_item_cache\u001b[0m\u001b[1;33m(\u001b[0m\u001b[0mkey\u001b[0m\u001b[1;33m)\u001b[0m\u001b[1;33m\u001b[0m\u001b[0m\n\u001b[0m\u001b[0;32m   2070\u001b[0m \u001b[1;33m\u001b[0m\u001b[0m\n\u001b[0;32m   2071\u001b[0m         \u001b[1;31m# duplicate columns & possible reduce dimensionality\u001b[0m\u001b[1;33m\u001b[0m\u001b[1;33m\u001b[0m\u001b[0m\n",
      "\u001b[1;32mc:\\users\\hcche\\appdata\\local\\programs\\python\\python36\\lib\\site-packages\\pandas\\core\\generic.py\u001b[0m in \u001b[0;36m_get_item_cache\u001b[1;34m(self, item)\u001b[0m\n\u001b[0;32m   1532\u001b[0m         \u001b[0mres\u001b[0m \u001b[1;33m=\u001b[0m \u001b[0mcache\u001b[0m\u001b[1;33m.\u001b[0m\u001b[0mget\u001b[0m\u001b[1;33m(\u001b[0m\u001b[0mitem\u001b[0m\u001b[1;33m)\u001b[0m\u001b[1;33m\u001b[0m\u001b[0m\n\u001b[0;32m   1533\u001b[0m         \u001b[1;32mif\u001b[0m \u001b[0mres\u001b[0m \u001b[1;32mis\u001b[0m \u001b[1;32mNone\u001b[0m\u001b[1;33m:\u001b[0m\u001b[1;33m\u001b[0m\u001b[0m\n\u001b[1;32m-> 1534\u001b[1;33m             \u001b[0mvalues\u001b[0m \u001b[1;33m=\u001b[0m \u001b[0mself\u001b[0m\u001b[1;33m.\u001b[0m\u001b[0m_data\u001b[0m\u001b[1;33m.\u001b[0m\u001b[0mget\u001b[0m\u001b[1;33m(\u001b[0m\u001b[0mitem\u001b[0m\u001b[1;33m)\u001b[0m\u001b[1;33m\u001b[0m\u001b[0m\n\u001b[0m\u001b[0;32m   1535\u001b[0m             \u001b[0mres\u001b[0m \u001b[1;33m=\u001b[0m \u001b[0mself\u001b[0m\u001b[1;33m.\u001b[0m\u001b[0m_box_item_values\u001b[0m\u001b[1;33m(\u001b[0m\u001b[0mitem\u001b[0m\u001b[1;33m,\u001b[0m \u001b[0mvalues\u001b[0m\u001b[1;33m)\u001b[0m\u001b[1;33m\u001b[0m\u001b[0m\n\u001b[0;32m   1536\u001b[0m             \u001b[0mcache\u001b[0m\u001b[1;33m[\u001b[0m\u001b[0mitem\u001b[0m\u001b[1;33m]\u001b[0m \u001b[1;33m=\u001b[0m \u001b[0mres\u001b[0m\u001b[1;33m\u001b[0m\u001b[0m\n",
      "\u001b[1;32mc:\\users\\hcche\\appdata\\local\\programs\\python\\python36\\lib\\site-packages\\pandas\\core\\internals.py\u001b[0m in \u001b[0;36mget\u001b[1;34m(self, item, fastpath)\u001b[0m\n\u001b[0;32m   3588\u001b[0m \u001b[1;33m\u001b[0m\u001b[0m\n\u001b[0;32m   3589\u001b[0m             \u001b[1;32mif\u001b[0m \u001b[1;32mnot\u001b[0m \u001b[0misnull\u001b[0m\u001b[1;33m(\u001b[0m\u001b[0mitem\u001b[0m\u001b[1;33m)\u001b[0m\u001b[1;33m:\u001b[0m\u001b[1;33m\u001b[0m\u001b[0m\n\u001b[1;32m-> 3590\u001b[1;33m                 \u001b[0mloc\u001b[0m \u001b[1;33m=\u001b[0m \u001b[0mself\u001b[0m\u001b[1;33m.\u001b[0m\u001b[0mitems\u001b[0m\u001b[1;33m.\u001b[0m\u001b[0mget_loc\u001b[0m\u001b[1;33m(\u001b[0m\u001b[0mitem\u001b[0m\u001b[1;33m)\u001b[0m\u001b[1;33m\u001b[0m\u001b[0m\n\u001b[0m\u001b[0;32m   3591\u001b[0m             \u001b[1;32melse\u001b[0m\u001b[1;33m:\u001b[0m\u001b[1;33m\u001b[0m\u001b[0m\n\u001b[0;32m   3592\u001b[0m                 \u001b[0mindexer\u001b[0m \u001b[1;33m=\u001b[0m \u001b[0mnp\u001b[0m\u001b[1;33m.\u001b[0m\u001b[0marange\u001b[0m\u001b[1;33m(\u001b[0m\u001b[0mlen\u001b[0m\u001b[1;33m(\u001b[0m\u001b[0mself\u001b[0m\u001b[1;33m.\u001b[0m\u001b[0mitems\u001b[0m\u001b[1;33m)\u001b[0m\u001b[1;33m)\u001b[0m\u001b[1;33m[\u001b[0m\u001b[0misnull\u001b[0m\u001b[1;33m(\u001b[0m\u001b[0mself\u001b[0m\u001b[1;33m.\u001b[0m\u001b[0mitems\u001b[0m\u001b[1;33m)\u001b[0m\u001b[1;33m]\u001b[0m\u001b[1;33m\u001b[0m\u001b[0m\n",
      "\u001b[1;32mc:\\users\\hcche\\appdata\\local\\programs\\python\\python36\\lib\\site-packages\\pandas\\core\\indexes\\base.py\u001b[0m in \u001b[0;36mget_loc\u001b[1;34m(self, key, method, tolerance)\u001b[0m\n\u001b[0;32m   2393\u001b[0m                 \u001b[1;32mreturn\u001b[0m \u001b[0mself\u001b[0m\u001b[1;33m.\u001b[0m\u001b[0m_engine\u001b[0m\u001b[1;33m.\u001b[0m\u001b[0mget_loc\u001b[0m\u001b[1;33m(\u001b[0m\u001b[0mkey\u001b[0m\u001b[1;33m)\u001b[0m\u001b[1;33m\u001b[0m\u001b[0m\n\u001b[0;32m   2394\u001b[0m             \u001b[1;32mexcept\u001b[0m \u001b[0mKeyError\u001b[0m\u001b[1;33m:\u001b[0m\u001b[1;33m\u001b[0m\u001b[0m\n\u001b[1;32m-> 2395\u001b[1;33m                 \u001b[1;32mreturn\u001b[0m \u001b[0mself\u001b[0m\u001b[1;33m.\u001b[0m\u001b[0m_engine\u001b[0m\u001b[1;33m.\u001b[0m\u001b[0mget_loc\u001b[0m\u001b[1;33m(\u001b[0m\u001b[0mself\u001b[0m\u001b[1;33m.\u001b[0m\u001b[0m_maybe_cast_indexer\u001b[0m\u001b[1;33m(\u001b[0m\u001b[0mkey\u001b[0m\u001b[1;33m)\u001b[0m\u001b[1;33m)\u001b[0m\u001b[1;33m\u001b[0m\u001b[0m\n\u001b[0m\u001b[0;32m   2396\u001b[0m \u001b[1;33m\u001b[0m\u001b[0m\n\u001b[0;32m   2397\u001b[0m         \u001b[0mindexer\u001b[0m \u001b[1;33m=\u001b[0m \u001b[0mself\u001b[0m\u001b[1;33m.\u001b[0m\u001b[0mget_indexer\u001b[0m\u001b[1;33m(\u001b[0m\u001b[1;33m[\u001b[0m\u001b[0mkey\u001b[0m\u001b[1;33m]\u001b[0m\u001b[1;33m,\u001b[0m \u001b[0mmethod\u001b[0m\u001b[1;33m=\u001b[0m\u001b[0mmethod\u001b[0m\u001b[1;33m,\u001b[0m \u001b[0mtolerance\u001b[0m\u001b[1;33m=\u001b[0m\u001b[0mtolerance\u001b[0m\u001b[1;33m)\u001b[0m\u001b[1;33m\u001b[0m\u001b[0m\n",
      "\u001b[1;32mpandas\\_libs\\index.pyx\u001b[0m in \u001b[0;36mpandas._libs.index.IndexEngine.get_loc (pandas\\_libs\\index.c:5239)\u001b[1;34m()\u001b[0m\n",
      "\u001b[1;32mpandas\\_libs\\index.pyx\u001b[0m in \u001b[0;36mpandas._libs.index.IndexEngine.get_loc (pandas\\_libs\\index.c:5085)\u001b[1;34m()\u001b[0m\n",
      "\u001b[1;32mpandas\\_libs\\hashtable_class_helper.pxi\u001b[0m in \u001b[0;36mpandas._libs.hashtable.PyObjectHashTable.get_item (pandas\\_libs\\hashtable.c:20405)\u001b[1;34m()\u001b[0m\n",
      "\u001b[1;32mpandas\\_libs\\hashtable_class_helper.pxi\u001b[0m in \u001b[0;36mpandas._libs.hashtable.PyObjectHashTable.get_item (pandas\\_libs\\hashtable.c:20359)\u001b[1;34m()\u001b[0m\n",
      "\u001b[1;31mKeyError\u001b[0m: 'Texture'"
     ]
    }
   ],
   "source": [
    "fruits['Texture']"
   ]
  },
  {
   "cell_type": "code",
   "execution_count": null,
   "metadata": {},
   "outputs": [],
   "source": [
    "clf = tree.DecisionTreeClassifier()  # Decision Tree classifier\n",
    "clf.fit(features, labels);  # 試驗是否這樣也可以？ 是的，結果放回 clf 是多此一舉。"
   ]
  },
  {
   "cell_type": "code",
   "execution_count": null,
   "metadata": {},
   "outputs": [],
   "source": [
    "%%f \n",
    "    __main__ :> tree constant tree // ( -- module ) the decision-tree *module* from sk-lern\n",
    "    __main__ :> clf constant clf // ( -- classifier ) the decision-tree *class* from sk-lern \n",
    "\n",
    "\\ 整個分布都打出來看\n",
    "    101 [for] 101 t@ - 100 + dup . space \n",
    "        clf :> predict([[pop(),0]]) tib. [next]\n",
    "    101 [for] 101 t@ - 100 + dup . space \n",
    "        clf :> predict([[pop(),1]]) tib. [next]"
   ]
  },
  {
   "cell_type": "code",
   "execution_count": 7,
   "metadata": {},
   "outputs": [
    {
     "data": {
      "text/plain": [
       "True"
      ]
     },
     "execution_count": 7,
     "metadata": {},
     "output_type": "execute_result"
    }
   ],
   "source": [
    "# Visualize\n",
    "# from scikit decision tree tutorial: http://scikit-learn.org/stable/modules/tree.html\n",
    "from sklearn.externals.six import StringIO\n",
    "import pydotplus as pydot\n",
    "\n",
    "dot_data = StringIO()\n",
    "tree.export_graphviz(clf, out_file=dot_data,\n",
    "                     feature_names=['Weight','Texture'],\n",
    "                     class_names=['Orange','Apple'],\n",
    "                     filled=True, rounded=True,\n",
    "                     impurity=False)\n",
    "graph = pydot.graph_from_dot_data(dot_data.getvalue())\n",
    "graph.write_pdf(\"Orange-Apple.pdf\")"
   ]
  }
 ],
 "metadata": {
  "kernelspec": {
   "display_name": "Python 3",
   "language": "python",
   "name": "python3"
  },
  "language_info": {
   "codemirror_mode": {
    "name": "ipython",
    "version": 3
   },
   "file_extension": ".py",
   "mimetype": "text/x-python",
   "name": "python",
   "nbconvert_exporter": "python",
   "pygments_lexer": "ipython3",
   "version": "3.6.0"
  }
 },
 "nbformat": 4,
 "nbformat_minor": 2
}
