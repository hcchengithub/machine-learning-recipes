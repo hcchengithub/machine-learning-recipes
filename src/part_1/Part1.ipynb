{
 "cells": [
  {
   "cell_type": "markdown",
   "metadata": {},
   "source": [
    "# Part 1 - Hello World - https://youtu.be/cKxRvEZd3Mw\n",
    "Follow a recipe for supervised learning (a technique to create a classifier from examples) and code it up."
   ]
  },
  {
   "cell_type": "code",
   "execution_count": 15,
   "metadata": {},
   "outputs": [],
   "source": [
    "from sklearn import tree\n",
    "import numpy as np\n",
    "import peforth"
   ]
  },
  {
   "cell_type": "code",
   "execution_count": 16,
   "metadata": {},
   "outputs": [],
   "source": [
    "# Examples\n",
    "# Weight Texture Label\n",
    "# 150g   Bumpy   Orange\n",
    "# 170g   Bumpy   Orange\n",
    "# 140g   Smooth  Apple\n",
    "# 130g   Smooth  Apple\n",
    "\n",
    "# Training Data\n",
    "# features = [[140, \"smooth\"], [130, \"smooth\"], [150, \"bumpy\"], [170, \"bumpy\"]]  # Input to classifier\n",
    "features = [[140, 1], [130, 1], [150, 0], [170, 0]]  # scikit-learn uses real-valued features 不接受 string\n",
    "\n",
    "# labels = [\"apple\", \"apple\", \"orange\", \"orange\"]  # Desired output\n",
    "labels = [0, 0, 1, 1]"
   ]
  },
  {
   "cell_type": "code",
   "execution_count": 17,
   "metadata": {},
   "outputs": [],
   "source": [
    "# Train Classifer\n",
    "clf = tree.DecisionTreeClassifier()  # Decision Tree classifier"
   ]
  },
  {
   "cell_type": "code",
   "execution_count": 18,
   "metadata": {},
   "outputs": [],
   "source": [
    "%%f \n",
    "__main__ :> tree constant tree // ( -- module ) the decision-tree *module* from sk-lern\n",
    "__main__ :> clf constant clf // ( -- classifier ) the decision-tree *class* from sk-lern \n"
   ]
  },
  {
   "cell_type": "code",
   "execution_count": 19,
   "metadata": {},
   "outputs": [],
   "source": [
    "# clf = clf.fit(features, labels)  # Find patterns in data\n",
    "clf.fit(features, labels);  # 試驗是否這樣也可以？ 是的，結果放回 clf 是多此一舉。"
   ]
  },
  {
   "cell_type": "code",
   "execution_count": 20,
   "metadata": {},
   "outputs": [
    {
     "name": "stdout",
     "output_type": "stream",
     "text": [
      "True\n"
     ]
    }
   ],
   "source": [
    "# 我發現 clf.fit() 傳回來的還是 clf 本身，而且還是個 class 。。。 而非 instance \n",
    "peforth.push(clf).dictate(\"constant clf2 // ( -- classifier ) same class with added properties\").dictate(\"clf clf2 == . cr\");"
   ]
  },
  {
   "cell_type": "markdown",
   "metadata": {},
   "source": [
    "fit 過後新的 clf 多出這些東西\n",
    "\n",
    "    'classes_',\n",
    "    'max_features_',\n",
    "    'n_classes_',\n",
    "    'n_features_',\n",
    "    'n_outputs_',\n",
    "    'tree_'"
   ]
  },
  {
   "cell_type": "code",
   "execution_count": 21,
   "metadata": {},
   "outputs": [
    {
     "name": "stdout",
     "output_type": "stream",
     "text": [
      "[1]\n"
     ]
    }
   ],
   "source": [
    "# Make Predictions\n",
    "print (clf.predict([[160, 0]]))\n",
    "# Output: 0-apple, 1-orange\n",
    "# Correct output is: 1-orange\n",
    "# endo.bp('11>')\n",
    "# endo.bp('22>')"
   ]
  },
  {
   "cell_type": "code",
   "execution_count": 22,
   "metadata": {
    "collapsed": true
   },
   "outputs": [
    {
     "name": "stdout",
     "output_type": "stream",
     "text": [
      "clf :> predict([[120,0]]) tib. \\ ==> [0] (<class 'numpy.ndarray'>)\n",
      "clf :> predict([[190,1]]) tib. \\ ==> [1] (<class 'numpy.ndarray'>)\n",
      "100 clf :> predict([[pop(),0]]) tib. \\ ==> [0] (<class 'numpy.ndarray'>)\n",
      "101 clf :> predict([[pop(),0]]) tib. \\ ==> [0] (<class 'numpy.ndarray'>)\n",
      "102 clf :> predict([[pop(),0]]) tib. \\ ==> [0] (<class 'numpy.ndarray'>)\n",
      "103 clf :> predict([[pop(),0]]) tib. \\ ==> [0] (<class 'numpy.ndarray'>)\n",
      "104 clf :> predict([[pop(),0]]) tib. \\ ==> [0] (<class 'numpy.ndarray'>)\n",
      "105 clf :> predict([[pop(),0]]) tib. \\ ==> [0] (<class 'numpy.ndarray'>)\n",
      "106 clf :> predict([[pop(),0]]) tib. \\ ==> [0] (<class 'numpy.ndarray'>)\n",
      "107 clf :> predict([[pop(),0]]) tib. \\ ==> [0] (<class 'numpy.ndarray'>)\n",
      "108 clf :> predict([[pop(),0]]) tib. \\ ==> [0] (<class 'numpy.ndarray'>)\n",
      "109 clf :> predict([[pop(),0]]) tib. \\ ==> [0] (<class 'numpy.ndarray'>)\n",
      "110 clf :> predict([[pop(),0]]) tib. \\ ==> [0] (<class 'numpy.ndarray'>)\n",
      "111 clf :> predict([[pop(),0]]) tib. \\ ==> [0] (<class 'numpy.ndarray'>)\n",
      "112 clf :> predict([[pop(),0]]) tib. \\ ==> [0] (<class 'numpy.ndarray'>)\n",
      "113 clf :> predict([[pop(),0]]) tib. \\ ==> [0] (<class 'numpy.ndarray'>)\n",
      "114 clf :> predict([[pop(),0]]) tib. \\ ==> [0] (<class 'numpy.ndarray'>)\n",
      "115 clf :> predict([[pop(),0]]) tib. \\ ==> [0] (<class 'numpy.ndarray'>)\n",
      "116 clf :> predict([[pop(),0]]) tib. \\ ==> [0] (<class 'numpy.ndarray'>)\n",
      "117 clf :> predict([[pop(),0]]) tib. \\ ==> [0] (<class 'numpy.ndarray'>)\n",
      "118 clf :> predict([[pop(),0]]) tib. \\ ==> [0] (<class 'numpy.ndarray'>)\n",
      "119 clf :> predict([[pop(),0]]) tib. \\ ==> [0] (<class 'numpy.ndarray'>)\n",
      "120 clf :> predict([[pop(),0]]) tib. \\ ==> [0] (<class 'numpy.ndarray'>)\n",
      "121 clf :> predict([[pop(),0]]) tib. \\ ==> [0] (<class 'numpy.ndarray'>)\n",
      "122 clf :> predict([[pop(),0]]) tib. \\ ==> [0] (<class 'numpy.ndarray'>)\n",
      "123 clf :> predict([[pop(),0]]) tib. \\ ==> [0] (<class 'numpy.ndarray'>)\n",
      "124 clf :> predict([[pop(),0]]) tib. \\ ==> [0] (<class 'numpy.ndarray'>)\n",
      "125 clf :> predict([[pop(),0]]) tib. \\ ==> [0] (<class 'numpy.ndarray'>)\n",
      "126 clf :> predict([[pop(),0]]) tib. \\ ==> [0] (<class 'numpy.ndarray'>)\n",
      "127 clf :> predict([[pop(),0]]) tib. \\ ==> [0] (<class 'numpy.ndarray'>)\n",
      "128 clf :> predict([[pop(),0]]) tib. \\ ==> [0] (<class 'numpy.ndarray'>)\n",
      "129 clf :> predict([[pop(),0]]) tib. \\ ==> [0] (<class 'numpy.ndarray'>)\n",
      "130 clf :> predict([[pop(),0]]) tib. \\ ==> [0] (<class 'numpy.ndarray'>)\n",
      "131 clf :> predict([[pop(),0]]) tib. \\ ==> [0] (<class 'numpy.ndarray'>)\n",
      "132 clf :> predict([[pop(),0]]) tib. \\ ==> [0] (<class 'numpy.ndarray'>)\n",
      "133 clf :> predict([[pop(),0]]) tib. \\ ==> [0] (<class 'numpy.ndarray'>)\n",
      "134 clf :> predict([[pop(),0]]) tib. \\ ==> [0] (<class 'numpy.ndarray'>)\n",
      "135 clf :> predict([[pop(),0]]) tib. \\ ==> [0] (<class 'numpy.ndarray'>)\n",
      "136 clf :> predict([[pop(),0]]) tib. \\ ==> [0] (<class 'numpy.ndarray'>)\n",
      "137 clf :> predict([[pop(),0]]) tib. \\ ==> [0] (<class 'numpy.ndarray'>)\n",
      "138 clf :> predict([[pop(),0]]) tib. \\ ==> [0] (<class 'numpy.ndarray'>)\n",
      "139 clf :> predict([[pop(),0]]) tib. \\ ==> [0] (<class 'numpy.ndarray'>)\n",
      "140 clf :> predict([[pop(),0]]) tib. \\ ==> [0] (<class 'numpy.ndarray'>)\n",
      "141 clf :> predict([[pop(),0]]) tib. \\ ==> [0] (<class 'numpy.ndarray'>)\n",
      "142 clf :> predict([[pop(),0]]) tib. \\ ==> [0] (<class 'numpy.ndarray'>)\n",
      "143 clf :> predict([[pop(),0]]) tib. \\ ==> [0] (<class 'numpy.ndarray'>)\n",
      "144 clf :> predict([[pop(),0]]) tib. \\ ==> [0] (<class 'numpy.ndarray'>)\n",
      "145 clf :> predict([[pop(),0]]) tib. \\ ==> [0] (<class 'numpy.ndarray'>)\n",
      "146 clf :> predict([[pop(),0]]) tib. \\ ==> [1] (<class 'numpy.ndarray'>)\n",
      "147 clf :> predict([[pop(),0]]) tib. \\ ==> [1] (<class 'numpy.ndarray'>)\n",
      "148 clf :> predict([[pop(),0]]) tib. \\ ==> [1] (<class 'numpy.ndarray'>)\n",
      "149 clf :> predict([[pop(),0]]) tib. \\ ==> [1] (<class 'numpy.ndarray'>)\n",
      "150 clf :> predict([[pop(),0]]) tib. \\ ==> [1] (<class 'numpy.ndarray'>)\n",
      "151 clf :> predict([[pop(),0]]) tib. \\ ==> [1] (<class 'numpy.ndarray'>)\n",
      "152 clf :> predict([[pop(),0]]) tib. \\ ==> [1] (<class 'numpy.ndarray'>)\n",
      "153 clf :> predict([[pop(),0]]) tib. \\ ==> [1] (<class 'numpy.ndarray'>)\n",
      "154 clf :> predict([[pop(),0]]) tib. \\ ==> [1] (<class 'numpy.ndarray'>)\n",
      "155 clf :> predict([[pop(),0]]) tib. \\ ==> [1] (<class 'numpy.ndarray'>)\n",
      "156 clf :> predict([[pop(),0]]) tib. \\ ==> [1] (<class 'numpy.ndarray'>)\n",
      "157 clf :> predict([[pop(),0]]) tib. \\ ==> [1] (<class 'numpy.ndarray'>)\n",
      "158 clf :> predict([[pop(),0]]) tib. \\ ==> [1] (<class 'numpy.ndarray'>)\n",
      "159 clf :> predict([[pop(),0]]) tib. \\ ==> [1] (<class 'numpy.ndarray'>)\n",
      "160 clf :> predict([[pop(),0]]) tib. \\ ==> [1] (<class 'numpy.ndarray'>)\n",
      "161 clf :> predict([[pop(),0]]) tib. \\ ==> [1] (<class 'numpy.ndarray'>)\n",
      "162 clf :> predict([[pop(),0]]) tib. \\ ==> [1] (<class 'numpy.ndarray'>)\n",
      "163 clf :> predict([[pop(),0]]) tib. \\ ==> [1] (<class 'numpy.ndarray'>)\n",
      "164 clf :> predict([[pop(),0]]) tib. \\ ==> [1] (<class 'numpy.ndarray'>)\n",
      "165 clf :> predict([[pop(),0]]) tib. \\ ==> [1] (<class 'numpy.ndarray'>)\n",
      "166 clf :> predict([[pop(),0]]) tib. \\ ==> [1] (<class 'numpy.ndarray'>)\n",
      "167 clf :> predict([[pop(),0]]) tib. \\ ==> [1] (<class 'numpy.ndarray'>)\n",
      "168 clf :> predict([[pop(),0]]) tib. \\ ==> [1] (<class 'numpy.ndarray'>)\n",
      "169 clf :> predict([[pop(),0]]) tib. \\ ==> [1] (<class 'numpy.ndarray'>)\n",
      "170 clf :> predict([[pop(),0]]) tib. \\ ==> [1] (<class 'numpy.ndarray'>)\n",
      "171 clf :> predict([[pop(),0]]) tib. \\ ==> [1] (<class 'numpy.ndarray'>)\n",
      "172 clf :> predict([[pop(),0]]) tib. \\ ==> [1] (<class 'numpy.ndarray'>)\n",
      "173 clf :> predict([[pop(),0]]) tib. \\ ==> [1] (<class 'numpy.ndarray'>)\n",
      "174 clf :> predict([[pop(),0]]) tib. \\ ==> [1] (<class 'numpy.ndarray'>)\n",
      "175 clf :> predict([[pop(),0]]) tib. \\ ==> [1] (<class 'numpy.ndarray'>)\n",
      "176 clf :> predict([[pop(),0]]) tib. \\ ==> [1] (<class 'numpy.ndarray'>)\n",
      "177 clf :> predict([[pop(),0]]) tib. \\ ==> [1] (<class 'numpy.ndarray'>)\n",
      "178 clf :> predict([[pop(),0]]) tib. \\ ==> [1] (<class 'numpy.ndarray'>)\n",
      "179 clf :> predict([[pop(),0]]) tib. \\ ==> [1] (<class 'numpy.ndarray'>)\n",
      "180 clf :> predict([[pop(),0]]) tib. \\ ==> [1] (<class 'numpy.ndarray'>)\n",
      "181 clf :> predict([[pop(),0]]) tib. \\ ==> [1] (<class 'numpy.ndarray'>)\n",
      "182 clf :> predict([[pop(),0]]) tib. \\ ==> [1] (<class 'numpy.ndarray'>)\n",
      "183 clf :> predict([[pop(),0]]) tib. \\ ==> [1] (<class 'numpy.ndarray'>)\n",
      "184 clf :> predict([[pop(),0]]) tib. \\ ==> [1] (<class 'numpy.ndarray'>)\n",
      "185 clf :> predict([[pop(),0]]) tib. \\ ==> [1] (<class 'numpy.ndarray'>)\n",
      "186 clf :> predict([[pop(),0]]) tib. \\ ==> [1] (<class 'numpy.ndarray'>)\n",
      "187 clf :> predict([[pop(),0]]) tib. \\ ==> [1] (<class 'numpy.ndarray'>)\n",
      "188 clf :> predict([[pop(),0]]) tib. \\ ==> [1] (<class 'numpy.ndarray'>)\n",
      "189 clf :> predict([[pop(),0]]) tib. \\ ==> [1] (<class 'numpy.ndarray'>)\n",
      "190 clf :> predict([[pop(),0]]) tib. \\ ==> [1] (<class 'numpy.ndarray'>)\n",
      "191 clf :> predict([[pop(),0]]) tib. \\ ==> [1] (<class 'numpy.ndarray'>)\n",
      "192 clf :> predict([[pop(),0]]) tib. \\ ==> [1] (<class 'numpy.ndarray'>)\n",
      "193 clf :> predict([[pop(),0]]) tib. \\ ==> [1] (<class 'numpy.ndarray'>)\n",
      "194 clf :> predict([[pop(),0]]) tib. \\ ==> [1] (<class 'numpy.ndarray'>)\n",
      "195 clf :> predict([[pop(),0]]) tib. \\ ==> [1] (<class 'numpy.ndarray'>)\n",
      "196 clf :> predict([[pop(),0]]) tib. \\ ==> [1] (<class 'numpy.ndarray'>)\n",
      "197 clf :> predict([[pop(),0]]) tib. \\ ==> [1] (<class 'numpy.ndarray'>)\n",
      "198 clf :> predict([[pop(),0]]) tib. \\ ==> [1] (<class 'numpy.ndarray'>)\n",
      "199 clf :> predict([[pop(),0]]) tib. \\ ==> [1] (<class 'numpy.ndarray'>)\n",
      "200 clf :> predict([[pop(),0]]) tib. \\ ==> [1] (<class 'numpy.ndarray'>)\n",
      "100 clf :> predict([[pop(),1]]) tib. \\ ==> [0] (<class 'numpy.ndarray'>)\n",
      "101 clf :> predict([[pop(),1]]) tib. \\ ==> [0] (<class 'numpy.ndarray'>)\n",
      "102 clf :> predict([[pop(),1]]) tib. \\ ==> [0] (<class 'numpy.ndarray'>)\n",
      "103 clf :> predict([[pop(),1]]) tib. \\ ==> [0] (<class 'numpy.ndarray'>)\n",
      "104 clf :> predict([[pop(),1]]) tib. \\ ==> [0] (<class 'numpy.ndarray'>)\n",
      "105 clf :> predict([[pop(),1]]) tib. \\ ==> [0] (<class 'numpy.ndarray'>)\n",
      "106 clf :> predict([[pop(),1]]) tib. \\ ==> [0] (<class 'numpy.ndarray'>)\n",
      "107 clf :> predict([[pop(),1]]) tib. \\ ==> [0] (<class 'numpy.ndarray'>)\n",
      "108 clf :> predict([[pop(),1]]) tib. \\ ==> [0] (<class 'numpy.ndarray'>)\n",
      "109 clf :> predict([[pop(),1]]) tib. \\ ==> [0] (<class 'numpy.ndarray'>)\n",
      "110 clf :> predict([[pop(),1]]) tib. \\ ==> [0] (<class 'numpy.ndarray'>)\n",
      "111 clf :> predict([[pop(),1]]) tib. \\ ==> [0] (<class 'numpy.ndarray'>)\n",
      "112 clf :> predict([[pop(),1]]) tib. \\ ==> [0] (<class 'numpy.ndarray'>)\n",
      "113 clf :> predict([[pop(),1]]) tib. \\ ==> [0] (<class 'numpy.ndarray'>)\n",
      "114 clf :> predict([[pop(),1]]) tib. \\ ==> [0] (<class 'numpy.ndarray'>)\n",
      "115 clf :> predict([[pop(),1]]) tib. \\ ==> [0] (<class 'numpy.ndarray'>)\n",
      "116 clf :> predict([[pop(),1]]) tib. \\ ==> [0] (<class 'numpy.ndarray'>)\n",
      "117 clf :> predict([[pop(),1]]) tib. \\ ==> [0] (<class 'numpy.ndarray'>)\n",
      "118 clf :> predict([[pop(),1]]) tib. \\ ==> [0] (<class 'numpy.ndarray'>)\n",
      "119 clf :> predict([[pop(),1]]) tib. \\ ==> [0] (<class 'numpy.ndarray'>)\n",
      "120 clf :> predict([[pop(),1]]) tib. \\ ==> [0] (<class 'numpy.ndarray'>)\n",
      "121 clf :> predict([[pop(),1]]) tib. \\ ==> [0] (<class 'numpy.ndarray'>)\n",
      "122 clf :> predict([[pop(),1]]) tib. \\ ==> [0] (<class 'numpy.ndarray'>)\n",
      "123 clf :> predict([[pop(),1]]) tib. \\ ==> [0] (<class 'numpy.ndarray'>)\n",
      "124 clf :> predict([[pop(),1]]) tib. \\ ==> [0] (<class 'numpy.ndarray'>)\n",
      "125 clf :> predict([[pop(),1]]) tib. \\ ==> [0] (<class 'numpy.ndarray'>)\n",
      "126 clf :> predict([[pop(),1]]) tib. \\ ==> [0] (<class 'numpy.ndarray'>)\n",
      "127 clf :> predict([[pop(),1]]) tib. \\ ==> [0] (<class 'numpy.ndarray'>)\n",
      "128 clf :> predict([[pop(),1]]) tib. \\ ==> [0] (<class 'numpy.ndarray'>)\n",
      "129 clf :> predict([[pop(),1]]) tib. \\ ==> [0] (<class 'numpy.ndarray'>)\n",
      "130 clf :> predict([[pop(),1]]) tib. \\ ==> [0] (<class 'numpy.ndarray'>)\n",
      "131 clf :> predict([[pop(),1]]) tib. \\ ==> [0] (<class 'numpy.ndarray'>)\n",
      "132 clf :> predict([[pop(),1]]) tib. \\ ==> [0] (<class 'numpy.ndarray'>)\n",
      "133 clf :> predict([[pop(),1]]) tib. \\ ==> [0] (<class 'numpy.ndarray'>)\n",
      "134 clf :> predict([[pop(),1]]) tib. \\ ==> [0] (<class 'numpy.ndarray'>)\n",
      "135 clf :> predict([[pop(),1]]) tib. \\ ==> [0] (<class 'numpy.ndarray'>)\n",
      "136 clf :> predict([[pop(),1]]) tib. \\ ==> [0] (<class 'numpy.ndarray'>)\n",
      "137 clf :> predict([[pop(),1]]) tib. \\ ==> [0] (<class 'numpy.ndarray'>)\n",
      "138 clf :> predict([[pop(),1]]) tib. \\ ==> [0] (<class 'numpy.ndarray'>)\n",
      "139 clf :> predict([[pop(),1]]) tib. \\ ==> [0] (<class 'numpy.ndarray'>)\n",
      "140 clf :> predict([[pop(),1]]) tib. \\ ==> [0] (<class 'numpy.ndarray'>)\n",
      "141 clf :> predict([[pop(),1]]) tib. \\ ==> [0] (<class 'numpy.ndarray'>)\n",
      "142 clf :> predict([[pop(),1]]) tib. \\ ==> [0] (<class 'numpy.ndarray'>)\n",
      "143 clf :> predict([[pop(),1]]) tib. \\ ==> [0] (<class 'numpy.ndarray'>)\n",
      "144 clf :> predict([[pop(),1]]) tib. \\ ==> [0] (<class 'numpy.ndarray'>)\n",
      "145 clf :> predict([[pop(),1]]) tib. \\ ==> [0] (<class 'numpy.ndarray'>)\n",
      "146 clf :> predict([[pop(),1]]) tib. \\ ==> [1] (<class 'numpy.ndarray'>)\n",
      "147 clf :> predict([[pop(),1]]) tib. \\ ==> [1] (<class 'numpy.ndarray'>)\n",
      "148 clf :> predict([[pop(),1]]) tib. \\ ==> [1] (<class 'numpy.ndarray'>)\n",
      "149 clf :> predict([[pop(),1]]) tib. \\ ==> [1] (<class 'numpy.ndarray'>)\n",
      "150 clf :> predict([[pop(),1]]) tib. \\ ==> [1] (<class 'numpy.ndarray'>)\n",
      "151 clf :> predict([[pop(),1]]) tib. \\ ==> [1] (<class 'numpy.ndarray'>)\n",
      "152 clf :> predict([[pop(),1]]) tib. \\ ==> [1] (<class 'numpy.ndarray'>)\n",
      "153 clf :> predict([[pop(),1]]) tib. \\ ==> [1] (<class 'numpy.ndarray'>)\n",
      "154 clf :> predict([[pop(),1]]) tib. \\ ==> [1] (<class 'numpy.ndarray'>)\n",
      "155 clf :> predict([[pop(),1]]) tib. \\ ==> [1] (<class 'numpy.ndarray'>)\n",
      "156 clf :> predict([[pop(),1]]) tib. \\ ==> [1] (<class 'numpy.ndarray'>)\n",
      "157 clf :> predict([[pop(),1]]) tib. \\ ==> [1] (<class 'numpy.ndarray'>)\n",
      "158 clf :> predict([[pop(),1]]) tib. \\ ==> [1] (<class 'numpy.ndarray'>)\n",
      "159 clf :> predict([[pop(),1]]) tib. \\ ==> [1] (<class 'numpy.ndarray'>)\n",
      "160 clf :> predict([[pop(),1]]) tib. \\ ==> [1] (<class 'numpy.ndarray'>)\n",
      "161 clf :> predict([[pop(),1]]) tib. \\ ==> [1] (<class 'numpy.ndarray'>)\n",
      "162 clf :> predict([[pop(),1]]) tib. \\ ==> [1] (<class 'numpy.ndarray'>)\n",
      "163 clf :> predict([[pop(),1]]) tib. \\ ==> [1] (<class 'numpy.ndarray'>)\n",
      "164 clf :> predict([[pop(),1]]) tib. \\ ==> [1] (<class 'numpy.ndarray'>)\n",
      "165 clf :> predict([[pop(),1]]) tib. \\ ==> [1] (<class 'numpy.ndarray'>)\n",
      "166 clf :> predict([[pop(),1]]) tib. \\ ==> [1] (<class 'numpy.ndarray'>)\n",
      "167 clf :> predict([[pop(),1]]) tib. \\ ==> [1] (<class 'numpy.ndarray'>)\n",
      "168 clf :> predict([[pop(),1]]) tib. \\ ==> [1] (<class 'numpy.ndarray'>)\n",
      "169 clf :> predict([[pop(),1]]) tib. \\ ==> [1] (<class 'numpy.ndarray'>)\n",
      "170 clf :> predict([[pop(),1]]) tib. \\ ==> [1] (<class 'numpy.ndarray'>)\n",
      "171 clf :> predict([[pop(),1]]) tib. \\ ==> [1] (<class 'numpy.ndarray'>)\n",
      "172 clf :> predict([[pop(),1]]) tib. \\ ==> [1] (<class 'numpy.ndarray'>)\n",
      "173 clf :> predict([[pop(),1]]) tib. \\ ==> [1] (<class 'numpy.ndarray'>)\n",
      "174 clf :> predict([[pop(),1]]) tib. \\ ==> [1] (<class 'numpy.ndarray'>)\n",
      "175 clf :> predict([[pop(),1]]) tib. \\ ==> [1] (<class 'numpy.ndarray'>)\n",
      "176 clf :> predict([[pop(),1]]) tib. \\ ==> [1] (<class 'numpy.ndarray'>)\n",
      "177 clf :> predict([[pop(),1]]) tib. \\ ==> [1] (<class 'numpy.ndarray'>)\n",
      "178 clf :> predict([[pop(),1]]) tib. \\ ==> [1] (<class 'numpy.ndarray'>)\n",
      "179 clf :> predict([[pop(),1]]) tib. \\ ==> [1] (<class 'numpy.ndarray'>)\n",
      "180 clf :> predict([[pop(),1]]) tib. \\ ==> [1] (<class 'numpy.ndarray'>)\n",
      "181 clf :> predict([[pop(),1]]) tib. \\ ==> [1] (<class 'numpy.ndarray'>)\n",
      "182 clf :> predict([[pop(),1]]) tib. \\ ==> [1] (<class 'numpy.ndarray'>)\n",
      "183 clf :> predict([[pop(),1]]) tib. \\ ==> [1] (<class 'numpy.ndarray'>)\n",
      "184 clf :> predict([[pop(),1]]) tib. \\ ==> [1] (<class 'numpy.ndarray'>)\n",
      "185 clf :> predict([[pop(),1]]) tib. \\ ==> [1] (<class 'numpy.ndarray'>)\n",
      "186 clf :> predict([[pop(),1]]) tib. \\ ==> [1] (<class 'numpy.ndarray'>)\n",
      "187 clf :> predict([[pop(),1]]) tib. \\ ==> [1] (<class 'numpy.ndarray'>)\n",
      "188 clf :> predict([[pop(),1]]) tib. \\ ==> [1] (<class 'numpy.ndarray'>)\n",
      "189 clf :> predict([[pop(),1]]) tib. \\ ==> [1] (<class 'numpy.ndarray'>)\n",
      "190 clf :> predict([[pop(),1]]) tib. \\ ==> [1] (<class 'numpy.ndarray'>)\n",
      "191 clf :> predict([[pop(),1]]) tib. \\ ==> [1] (<class 'numpy.ndarray'>)\n",
      "192 clf :> predict([[pop(),1]]) tib. \\ ==> [1] (<class 'numpy.ndarray'>)\n",
      "193 clf :> predict([[pop(),1]]) tib. \\ ==> [1] (<class 'numpy.ndarray'>)\n",
      "194 clf :> predict([[pop(),1]]) tib. \\ ==> [1] (<class 'numpy.ndarray'>)\n",
      "195 clf :> predict([[pop(),1]]) tib. \\ ==> [1] (<class 'numpy.ndarray'>)\n",
      "196 clf :> predict([[pop(),1]]) tib. \\ ==> [1] (<class 'numpy.ndarray'>)\n",
      "197 clf :> predict([[pop(),1]]) tib. \\ ==> [1] (<class 'numpy.ndarray'>)\n",
      "198 clf :> predict([[pop(),1]]) tib. \\ ==> [1] (<class 'numpy.ndarray'>)\n",
      "199 clf :> predict([[pop(),1]]) tib. \\ ==> [1] (<class 'numpy.ndarray'>)\n",
      "200 clf :> predict([[pop(),1]]) tib. \\ ==> [1] (<class 'numpy.ndarray'>)\n"
     ]
    }
   ],
   "source": [
    "%%f\n",
    "\\ 隨便玩玩\n",
    "    clf :> predict([[120,0]]) tib. \n",
    "    clf :> predict([[190,1]]) tib. \n",
    "\n",
    "\\ 整個分布都打出來看看，好玩！\n",
    "    101 [for] 101 t@ - 100 + dup . space \n",
    "        clf :> predict([[pop(),0]]) tib. [next]\n",
    "    101 [for] 101 t@ - 100 + dup . space \n",
    "        clf :> predict([[pop(),1]]) tib. [next]"
   ]
  },
  {
   "cell_type": "markdown",
   "metadata": {},
   "source": [
    "#### 發現\n",
    "\n",
    "以上「整個分布都打出來看」結果發現這個 decision tree 根本只憑重量而已，表皮是不考慮的。\n",
    "\n",
    "#### 把 DT 畫出來看看"
   ]
  },
  {
   "cell_type": "code",
   "execution_count": 2,
   "metadata": {},
   "outputs": [],
   "source": [
    "# This cell creates %%csv cell magic. See http://ipython-books.github.io/14-creating-an-ipython-extension-with-custom-magic-commands\n",
    "import pandas as pd\n",
    "from io import StringIO\n",
    "from IPython.core.magic import (register_cell_magic)\n",
    "@register_cell_magic\n",
    "def csv(line, cell):\n",
    "    return pd.read_csv(StringIO(cell), sep=line)"
   ]
  },
  {
   "cell_type": "code",
   "execution_count": 3,
   "metadata": {},
   "outputs": [
    {
     "data": {
      "text/html": [
       "<div>\n",
       "<style>\n",
       "    .dataframe thead tr:only-child th {\n",
       "        text-align: right;\n",
       "    }\n",
       "\n",
       "    .dataframe thead th {\n",
       "        text-align: left;\n",
       "    }\n",
       "\n",
       "    .dataframe tbody tr th {\n",
       "        vertical-align: top;\n",
       "    }\n",
       "</style>\n",
       "<table border=\"1\" class=\"dataframe\">\n",
       "  <thead>\n",
       "    <tr style=\"text-align: right;\">\n",
       "      <th></th>\n",
       "      <th>Weight</th>\n",
       "      <th>Texture</th>\n",
       "      <th>Label</th>\n",
       "    </tr>\n",
       "  </thead>\n",
       "  <tbody>\n",
       "    <tr>\n",
       "      <th>0</th>\n",
       "      <td>140</td>\n",
       "      <td>1</td>\n",
       "      <td>0</td>\n",
       "    </tr>\n",
       "    <tr>\n",
       "      <th>1</th>\n",
       "      <td>130</td>\n",
       "      <td>1</td>\n",
       "      <td>0</td>\n",
       "    </tr>\n",
       "    <tr>\n",
       "      <th>2</th>\n",
       "      <td>150</td>\n",
       "      <td>0</td>\n",
       "      <td>1</td>\n",
       "    </tr>\n",
       "    <tr>\n",
       "      <th>3</th>\n",
       "      <td>170</td>\n",
       "      <td>0</td>\n",
       "      <td>1</td>\n",
       "    </tr>\n",
       "  </tbody>\n",
       "</table>\n",
       "</div>"
      ],
      "text/plain": [
       "   Weight  Texture  Label\n",
       "0     140        1      0\n",
       "1     130        1      0\n",
       "2     150        0      1\n",
       "3     170        0      1"
      ]
     },
     "execution_count": 3,
     "metadata": {},
     "output_type": "execute_result"
    }
   ],
   "source": [
    "%%csv ,\n",
    "Weight,Texture,Label\n",
    "140, 1, 0\n",
    "130, 1, 0\n",
    "150, 0, 1\n",
    "170, 0, 1\n"
   ]
  },
  {
   "cell_type": "code",
   "execution_count": 4,
   "metadata": {},
   "outputs": [
    {
     "data": {
      "text/html": [
       "<div>\n",
       "<style>\n",
       "    .dataframe thead tr:only-child th {\n",
       "        text-align: right;\n",
       "    }\n",
       "\n",
       "    .dataframe thead th {\n",
       "        text-align: left;\n",
       "    }\n",
       "\n",
       "    .dataframe tbody tr th {\n",
       "        vertical-align: top;\n",
       "    }\n",
       "</style>\n",
       "<table border=\"1\" class=\"dataframe\">\n",
       "  <thead>\n",
       "    <tr style=\"text-align: right;\">\n",
       "      <th></th>\n",
       "      <th>Weight</th>\n",
       "      <th>Texture</th>\n",
       "      <th>Label</th>\n",
       "    </tr>\n",
       "  </thead>\n",
       "  <tbody>\n",
       "    <tr>\n",
       "      <th>0</th>\n",
       "      <td>140</td>\n",
       "      <td>1</td>\n",
       "      <td>0</td>\n",
       "    </tr>\n",
       "    <tr>\n",
       "      <th>1</th>\n",
       "      <td>130</td>\n",
       "      <td>1</td>\n",
       "      <td>0</td>\n",
       "    </tr>\n",
       "    <tr>\n",
       "      <th>2</th>\n",
       "      <td>150</td>\n",
       "      <td>0</td>\n",
       "      <td>1</td>\n",
       "    </tr>\n",
       "    <tr>\n",
       "      <th>3</th>\n",
       "      <td>170</td>\n",
       "      <td>0</td>\n",
       "      <td>1</td>\n",
       "    </tr>\n",
       "  </tbody>\n",
       "</table>\n",
       "</div>"
      ],
      "text/plain": [
       "   Weight  Texture  Label\n",
       "0     140        1      0\n",
       "1     130        1      0\n",
       "2     150        0      1\n",
       "3     170        0      1"
      ]
     },
     "execution_count": 4,
     "metadata": {},
     "output_type": "execute_result"
    }
   ],
   "source": [
    "fruits = _ \n",
    "fruits"
   ]
  },
  {
   "cell_type": "code",
   "execution_count": 5,
   "metadata": {},
   "outputs": [
    {
     "data": {
      "text/plain": [
       "Index(['Weight', 'Texture', 'Label'], dtype='object')"
      ]
     },
     "execution_count": 5,
     "metadata": {},
     "output_type": "execute_result"
    }
   ],
   "source": [
    "fruits.keys()"
   ]
  },
  {
   "cell_type": "code",
   "execution_count": 6,
   "metadata": {},
   "outputs": [
    {
     "data": {
      "text/plain": [
       "0    140\n",
       "1    130\n",
       "2    150\n",
       "3    170\n",
       "Name: Weight, dtype: int64"
      ]
     },
     "execution_count": 6,
     "metadata": {},
     "output_type": "execute_result"
    }
   ],
   "source": [
    "fruits['Weight']"
   ]
  },
  {
   "cell_type": "code",
   "execution_count": 7,
   "metadata": {},
   "outputs": [
    {
     "data": {
      "text/html": [
       "<div>\n",
       "<style>\n",
       "    .dataframe thead tr:only-child th {\n",
       "        text-align: right;\n",
       "    }\n",
       "\n",
       "    .dataframe thead th {\n",
       "        text-align: left;\n",
       "    }\n",
       "\n",
       "    .dataframe tbody tr th {\n",
       "        vertical-align: top;\n",
       "    }\n",
       "</style>\n",
       "<table border=\"1\" class=\"dataframe\">\n",
       "  <thead>\n",
       "    <tr style=\"text-align: right;\">\n",
       "      <th></th>\n",
       "      <th>Weight</th>\n",
       "      <th>Texture</th>\n",
       "      <th>Label</th>\n",
       "    </tr>\n",
       "  </thead>\n",
       "  <tbody>\n",
       "    <tr>\n",
       "      <th>0</th>\n",
       "      <td>140</td>\n",
       "      <td>1</td>\n",
       "      <td>0</td>\n",
       "    </tr>\n",
       "    <tr>\n",
       "      <th>1</th>\n",
       "      <td>130</td>\n",
       "      <td>1</td>\n",
       "      <td>0</td>\n",
       "    </tr>\n",
       "  </tbody>\n",
       "</table>\n",
       "</div>"
      ],
      "text/plain": [
       "   Weight  Texture  Label\n",
       "0     140        1      0\n",
       "1     130        1      0"
      ]
     },
     "execution_count": 7,
     "metadata": {},
     "output_type": "execute_result"
    }
   ],
   "source": [
    "fruits[:2][:3]"
   ]
  },
  {
   "cell_type": "code",
   "execution_count": 8,
   "metadata": {},
   "outputs": [
    {
     "data": {
      "text/plain": [
       "0    1\n",
       "1    1\n",
       "2    0\n",
       "3    0\n",
       "Name: Texture, dtype: int64"
      ]
     },
     "execution_count": 8,
     "metadata": {},
     "output_type": "execute_result"
    }
   ],
   "source": [
    "fruits['Texture']"
   ]
  },
  {
   "cell_type": "code",
   "execution_count": null,
   "metadata": {
    "scrolled": false
   },
   "outputs": [],
   "source": [
    "%%f\n",
    "__main__ :> fruits constant fruits // ( -- data-frame )\n",
    "py: ok()"
   ]
  },
  {
   "cell_type": "code",
   "execution_count": 23,
   "metadata": {
    "collapsed": true
   },
   "outputs": [
    {
     "ename": "InvocationException",
     "evalue": "GraphViz's executables not found",
     "output_type": "error",
     "traceback": [
      "\u001b[1;31m---------------------------------------------------------------------------\u001b[0m",
      "\u001b[1;31mInvocationException\u001b[0m                       Traceback (most recent call last)",
      "\u001b[1;32m<ipython-input-23-1919b9b786d4>\u001b[0m in \u001b[0;36m<module>\u001b[1;34m()\u001b[0m\n\u001b[0;32m     11\u001b[0m                      impurity=False)\n\u001b[0;32m     12\u001b[0m \u001b[0mgraph\u001b[0m \u001b[1;33m=\u001b[0m \u001b[0mpydot\u001b[0m\u001b[1;33m.\u001b[0m\u001b[0mgraph_from_dot_data\u001b[0m\u001b[1;33m(\u001b[0m\u001b[0mdot_data\u001b[0m\u001b[1;33m.\u001b[0m\u001b[0mgetvalue\u001b[0m\u001b[1;33m(\u001b[0m\u001b[1;33m)\u001b[0m\u001b[1;33m)\u001b[0m\u001b[1;33m\u001b[0m\u001b[0m\n\u001b[1;32m---> 13\u001b[1;33m \u001b[0mgraph\u001b[0m\u001b[1;33m.\u001b[0m\u001b[0mwrite_pdf\u001b[0m\u001b[1;33m(\u001b[0m\u001b[1;34m\"Orange-Apple.pdf\"\u001b[0m\u001b[1;33m)\u001b[0m\u001b[1;33m\u001b[0m\u001b[0m\n\u001b[0m",
      "\u001b[1;32mc:\\users\\hcche\\appdata\\local\\programs\\python\\python36\\lib\\site-packages\\pydotplus\\graphviz.py\u001b[0m in \u001b[0;36m<lambda>\u001b[1;34m(path, f, prog)\u001b[0m\n\u001b[0;32m   1808\u001b[0m                 \u001b[1;32mlambda\u001b[0m \u001b[0mpath\u001b[0m\u001b[1;33m,\u001b[0m\u001b[1;33m\u001b[0m\u001b[0m\n\u001b[0;32m   1809\u001b[0m                 \u001b[0mf\u001b[0m\u001b[1;33m=\u001b[0m\u001b[0mfrmt\u001b[0m\u001b[1;33m,\u001b[0m\u001b[1;33m\u001b[0m\u001b[0m\n\u001b[1;32m-> 1810\u001b[1;33m                 \u001b[0mprog\u001b[0m\u001b[1;33m=\u001b[0m\u001b[0mself\u001b[0m\u001b[1;33m.\u001b[0m\u001b[0mprog\u001b[0m\u001b[1;33m:\u001b[0m \u001b[0mself\u001b[0m\u001b[1;33m.\u001b[0m\u001b[0mwrite\u001b[0m\u001b[1;33m(\u001b[0m\u001b[0mpath\u001b[0m\u001b[1;33m,\u001b[0m \u001b[0mformat\u001b[0m\u001b[1;33m=\u001b[0m\u001b[0mf\u001b[0m\u001b[1;33m,\u001b[0m \u001b[0mprog\u001b[0m\u001b[1;33m=\u001b[0m\u001b[0mprog\u001b[0m\u001b[1;33m)\u001b[0m\u001b[1;33m\u001b[0m\u001b[0m\n\u001b[0m\u001b[0;32m   1811\u001b[0m             )\n\u001b[0;32m   1812\u001b[0m \u001b[1;33m\u001b[0m\u001b[0m\n",
      "\u001b[1;32mc:\\users\\hcche\\appdata\\local\\programs\\python\\python36\\lib\\site-packages\\pydotplus\\graphviz.py\u001b[0m in \u001b[0;36mwrite\u001b[1;34m(self, path, prog, format)\u001b[0m\n\u001b[0;32m   1916\u001b[0m \u001b[1;33m\u001b[0m\u001b[0m\n\u001b[0;32m   1917\u001b[0m             \u001b[1;32melse\u001b[0m\u001b[1;33m:\u001b[0m\u001b[1;33m\u001b[0m\u001b[0m\n\u001b[1;32m-> 1918\u001b[1;33m                 \u001b[0mfobj\u001b[0m\u001b[1;33m.\u001b[0m\u001b[0mwrite\u001b[0m\u001b[1;33m(\u001b[0m\u001b[0mself\u001b[0m\u001b[1;33m.\u001b[0m\u001b[0mcreate\u001b[0m\u001b[1;33m(\u001b[0m\u001b[0mprog\u001b[0m\u001b[1;33m,\u001b[0m \u001b[0mformat\u001b[0m\u001b[1;33m)\u001b[0m\u001b[1;33m)\u001b[0m\u001b[1;33m\u001b[0m\u001b[0m\n\u001b[0m\u001b[0;32m   1919\u001b[0m         \u001b[1;32mfinally\u001b[0m\u001b[1;33m:\u001b[0m\u001b[1;33m\u001b[0m\u001b[0m\n\u001b[0;32m   1920\u001b[0m             \u001b[1;32mif\u001b[0m \u001b[0mclose\u001b[0m\u001b[1;33m:\u001b[0m\u001b[1;33m\u001b[0m\u001b[0m\n",
      "\u001b[1;32mc:\\users\\hcche\\appdata\\local\\programs\\python\\python36\\lib\\site-packages\\pydotplus\\graphviz.py\u001b[0m in \u001b[0;36mcreate\u001b[1;34m(self, prog, format)\u001b[0m\n\u001b[0;32m   1958\u001b[0m             \u001b[1;32mif\u001b[0m \u001b[0mself\u001b[0m\u001b[1;33m.\u001b[0m\u001b[0mprogs\u001b[0m \u001b[1;32mis\u001b[0m \u001b[1;32mNone\u001b[0m\u001b[1;33m:\u001b[0m\u001b[1;33m\u001b[0m\u001b[0m\n\u001b[0;32m   1959\u001b[0m                 raise InvocationException(\n\u001b[1;32m-> 1960\u001b[1;33m                     'GraphViz\\'s executables not found')\n\u001b[0m\u001b[0;32m   1961\u001b[0m \u001b[1;33m\u001b[0m\u001b[0m\n\u001b[0;32m   1962\u001b[0m         \u001b[1;32mif\u001b[0m \u001b[0mprog\u001b[0m \u001b[1;32mnot\u001b[0m \u001b[1;32min\u001b[0m \u001b[0mself\u001b[0m\u001b[1;33m.\u001b[0m\u001b[0mprogs\u001b[0m\u001b[1;33m:\u001b[0m\u001b[1;33m\u001b[0m\u001b[0m\n",
      "\u001b[1;31mInvocationException\u001b[0m: GraphViz's executables not found"
     ]
    }
   ],
   "source": [
    "# Visualize\n",
    "# from scikit decision tree tutorial: http://scikit-learn.org/stable/modules/tree.html\n",
    "from sklearn.externals.six import StringIO\n",
    "import pydotplus as pydot\n",
    "\n",
    "dot_data = StringIO()\n",
    "tree.export_graphviz(clf, out_file=dot_data,\n",
    "                     feature_names=['Weight','Texture'],\n",
    "                     class_names=['Orange','Apple'],\n",
    "                     filled=True, rounded=True,\n",
    "                     impurity=False)\n",
    "graph = pydot.graph_from_dot_data(dot_data.getvalue())\n",
    "graph.write_pdf(\"Orange-Apple.pdf\")"
   ]
  }
 ],
 "metadata": {
  "kernelspec": {
   "display_name": "Python 3",
   "language": "python",
   "name": "python3"
  },
  "language_info": {
   "codemirror_mode": {
    "name": "ipython",
    "version": 3
   },
   "file_extension": ".py",
   "mimetype": "text/x-python",
   "name": "python",
   "nbconvert_exporter": "python",
   "pygments_lexer": "ipython3",
   "version": "3.6.0"
  }
 },
 "nbformat": 4,
 "nbformat_minor": 2
}
