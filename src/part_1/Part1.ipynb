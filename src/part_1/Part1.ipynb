{
 "cells": [
  {
   "cell_type": "code",
   "execution_count": 7,
   "metadata": {},
   "outputs": [],
   "source": [
    "import peforth"
   ]
  },
  {
   "cell_type": "code",
   "execution_count": 1,
   "metadata": {},
   "outputs": [],
   "source": [
    "# Part 1 - Hello World - https://youtu.be/cKxRvEZd3Mw\n",
    "\n",
    "# Follow a recipe for supervised learning (a technique to create a classifier from examples) and code it up.\n",
    "# import endo\n",
    "# endo.Local = locals()\n",
    "from sklearn import tree"
   ]
  },
  {
   "cell_type": "code",
   "execution_count": 2,
   "metadata": {},
   "outputs": [],
   "source": [
    "# Examples\n",
    "# Weight Texture Label\n",
    "# 150g   Bumpy   Orange\n",
    "# 170g   Bumpy   Orange\n",
    "# 140g   Smooth  Apple\n",
    "# 130g   Smooth  Apple\n",
    "\n",
    "# Training Data\n",
    "# features = [[140, \"smooth\"], [130, \"smooth\"], [150, \"bumpy\"], [170, \"bumpy\"]]  # Input to classifier\n",
    "features = [[140, 1], [130, 1], [150, 0], [170, 0]]  # scikit-learn uses real-valued features 不接受 string\n",
    "\n",
    "# labels = [\"apple\", \"apple\", \"orange\", \"orange\"]  # Desired output\n",
    "labels = [0, 0, 1, 1]"
   ]
  },
  {
   "cell_type": "code",
   "execution_count": 5,
   "metadata": {},
   "outputs": [],
   "source": [
    "# Train Classifer\n",
    "clf = tree.DecisionTreeClassifier()  # Decision Tree classifier"
   ]
  },
  {
   "cell_type": "code",
   "execution_count": 8,
   "metadata": {},
   "outputs": [],
   "source": [
    "%%f \n",
    "__main__ :> tree constant tree // ( -- module ) the decision-tree *module* from sk-lern\n",
    "__main__ :> clf constant clf // ( -- classifier ) the decision-tree *class*the decision-tree class from sk-lern \n"
   ]
  },
  {
   "cell_type": "code",
   "execution_count": 12,
   "metadata": {},
   "outputs": [
    {
     "name": "stdout",
     "output_type": "stream",
     "text": [
      "dos title \n",
      "OK .\n",
      "0OK dos echo token = d789e6fd93ab9d4aa147639f21aba75c7e7e5b69defec665\n",
      "OK \\ jupyter notebook token\n",
      "OK exit\n",
      "OK "
     ]
    }
   ],
   "source": [
    "peforth.ok();"
   ]
  },
  {
   "cell_type": "code",
   "execution_count": 3,
   "metadata": {},
   "outputs": [],
   "source": [
    "clf = clf.fit(features, labels)  # Find patterns in data"
   ]
  },
  {
   "cell_type": "code",
   "execution_count": 4,
   "metadata": {},
   "outputs": [
    {
     "name": "stdout",
     "output_type": "stream",
     "text": [
      "[1]\n"
     ]
    }
   ],
   "source": [
    "# Make Predictions\n",
    "print (clf.predict([[160, 0]]))\n",
    "# Output: 0-apple, 1-orange\n",
    "# Correct output is: 1-orange\n",
    "# endo.bp('11>')\n",
    "# endo.bp('22>')"
   ]
  },
  {
   "cell_type": "code",
   "execution_count": 11,
   "metadata": {},
   "outputs": [],
   "source": []
  }
 ],
 "metadata": {
  "kernelspec": {
   "display_name": "Python 3",
   "language": "python",
   "name": "python3"
  },
  "language_info": {
   "codemirror_mode": {
    "name": "ipython",
    "version": 3
   },
   "file_extension": ".py",
   "mimetype": "text/x-python",
   "name": "python",
   "nbconvert_exporter": "python",
   "pygments_lexer": "ipython3",
   "version": "3.6.0"
  }
 },
 "nbformat": 4,
 "nbformat_minor": 2
}
