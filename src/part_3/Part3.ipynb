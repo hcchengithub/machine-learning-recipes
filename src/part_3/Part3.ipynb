{
 "cells": [
  {
   "cell_type": "markdown",
   "metadata": {},
   "source": [
    "# Part 3 - What Makes a Good Feature? - https://youtu.be/N9fDIAflCMY\n",
    "\n",
    "\n",
    "### Ideal features are:\n",
    "- Informative\n",
    "- Independent\n",
    "      Independent features are bestAvoid redundant features (height in inch AND height in cm)\n",
    "- Simple\n",
    "\n",
    "We'll introduce these \n",
    "concepts by using a histogram to visualize a feature from a toy dataset.\n"
   ]
  },
  {
   "cell_type": "code",
   "execution_count": 1,
   "metadata": {},
   "outputs": [],
   "source": [
    "import matplotlib.pyplot as plt\n",
    "import numpy as np\n",
    "\n",
    "# Create population of 1000 dog, 50/50 greyhound/labrador\n",
    "greyhounds = 500\n",
    "labs = 500\n",
    "\n",
    "# Assume greyhounds are normally 28\" tall\n",
    "# Assume labradors are normally 24\" tall\n",
    "# Assume normal distribution of +/- 4\"\n",
    "grey_height = 28 + 4 * np.random.randn(greyhounds)\n",
    "lab_height = 24 + 4 * np.random.randn(labs)"
   ]
  },
  {
   "cell_type": "code",
   "execution_count": 30,
   "metadata": {},
   "outputs": [
    {
     "name": "stdout",
     "output_type": "stream",
     "text": [
      "__main__ :> grey_height dup :> [:10] tib. \\ ==> [31.38979202 23.21361191 26.29119867 22.22443936 23.83453112 34.7179474\n",
      " 27.18483309 19.13251757 31.64957106 23.73742667] (<class 'numpy.ndarray'>)\n",
      "__main__ :> np.array(pop()).shape tib. \\ ==> (500,) (<class 'tuple'>)\n",
      "\n",
      "__main__ :> lab_height dup :> [:10] tib. \\ ==> [26.77810209 19.92194787 21.69932266 27.56399329 22.09612923 21.68960645\n",
      " 27.66412926 23.0478682  24.22674438 14.67601414] (<class 'numpy.ndarray'>)\n",
      "__main__ :> np.array(pop()).shape tib. \\ ==> (500,) (<class 'tuple'>)\n",
      "\n",
      "__main__ :> np.random.randn(10) dup tib. \\ ==> [ 0.14573182 -0.431118   -0.44879841 -0.40047522  0.25394583 -2.44535726\n",
      " -0.54086399  1.42157251  0.11150406  0.92991193] (<class 'numpy.ndarray'>)\n",
      "__main__ :> np.array(pop()).shape tib. \\ ==> (10,) (<class 'tuple'>)\n",
      "\n"
     ]
    }
   ],
   "source": [
    "import peforth\n",
    "%f __main__ :> grey_height dup :> [:10] tib.\n",
    "%f __main__ :> np.array(pop()).shape tib. cr\n",
    "    \n",
    "%f __main__ :> lab_height dup :> [:10] tib.\n",
    "%f __main__ :> np.array(pop()).shape tib. cr\n",
    "        \n",
    "%f __main__ :> np.random.randn(10) dup tib.\n",
    "%f __main__ :> np.array(pop()).shape tib. cr\n",
    "    "
   ]
  },
  {
   "cell_type": "code",
   "execution_count": 32,
   "metadata": {},
   "outputs": [
    {
     "data": {
      "image/png": "[encoded data removed]",
      "text/plain": [
       "<matplotlib.figure.Figure at 0x2427d036780>"
      ]
     },
     "metadata": {},
     "output_type": "display_data"
    }
   ],
   "source": [
    "# Greyounds - red, labradors - blue\n",
    "plt.hist([grey_height, lab_height], stacked=True, color=['r', 'b'])\n",
    "plt.show()"
   ]
  }
 ],
 "metadata": {
  "kernelspec": {
   "display_name": "Python 3",
   "language": "python",
   "name": "python3"
  },
  "language_info": {
   "codemirror_mode": {
    "name": "ipython",
    "version": 3
   },
   "file_extension": ".py",
   "mimetype": "text/x-python",
   "name": "python",
   "nbconvert_exporter": "python",
   "pygments_lexer": "ipython3",
   "version": "3.6.0"
  }
 },
 "nbformat": 4,
 "nbformat_minor": 2
}
