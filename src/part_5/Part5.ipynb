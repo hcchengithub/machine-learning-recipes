{
 "cells": [
  {
   "cell_type": "markdown",
   "metadata": {},
   "source": [
    "# Writing Our First Classifier - Machine Learning Recipes #5\n",
    "https://youtu.be/AoeEHqVSNOw\n",
    "\n",
    "\n",
    "這一課說的是一個自制的 scrappy classifier \n",
    "當它, predict(), 用 random 亂猜時，得到 30％ 左右的準確率，真好玩，好好笑。\n"
   ]
  },
  {
   "cell_type": "code",
   "execution_count": 16,
   "metadata": {},
   "outputs": [
    {
     "name": "stdout",
     "output_type": "stream",
     "text": [
      "0.9866666666666667\n"
     ]
    }
   ],
   "source": [
    "from scipy.spatial import distance\n",
    "import random\n",
    "\n",
    "def euc(a, b):\n",
    "    return distance.euclidean(a, b)\n",
    "\n",
    "\n",
    "class ScrappyKNN():\n",
    "    \"\"\"\n",
    "    Barebones KNN\n",
    "    \"\"\"\n",
    "\n",
    "    def fit(self, X_train, y_train):\n",
    "        \"\"\"\n",
    "        Takes features and labels for training set as input\n",
    "        :param X_train:\n",
    "        :param y_train:\n",
    "        :return:\n",
    "        \"\"\"\n",
    "        self.X_train = X_train\n",
    "        self.y_train = y_train\n",
    "\n",
    "    def predict(self, X_test):\n",
    "        \"\"\"\n",
    "        Receives features for testing data\n",
    "        Output predictions for labels\n",
    "        :param X_test:\n",
    "        :return:\n",
    "        \"\"\"\n",
    "        predictions = []\n",
    "        for row in X_test:\n",
    "            # label = random.choice(self.y_train)  # Random decision\n",
    "            label = self.closest(row)\n",
    "            predictions.append(label)\n",
    "\n",
    "        return predictions\n",
    "\n",
    "    def closest(self, row):\n",
    "        \"\"\"\n",
    "        Find the closest training point\n",
    "        :param row:\n",
    "        :return:\n",
    "        \"\"\"\n",
    "        # Distance from test point to first training point\n",
    "        best_dist = euc(row, self.X_train[0])  # Shortest distance found so far\n",
    "        best_index = 0  # index of closest training point\n",
    "        for i in range(1, len(self.X_train)):  # Iterate over all other training points\n",
    "            dist = euc(row, self.X_train[i])\n",
    "            if dist < best_dist:  # Found closer, update\n",
    "                best_dist = dist\n",
    "                best_index = i\n",
    "        return self.y_train[best_index]  # closest example\n",
    "\n",
    "\n",
    "from sklearn import datasets\n",
    "\n",
    "iris = datasets.load_iris()\n",
    "\n",
    "X = iris.data\n",
    "y = iris.target\n",
    "\n",
    "from sklearn.cross_validation import train_test_split\n",
    "\n",
    "X_train, X_test, y_train, y_test = train_test_split(X, y, test_size=0.5)\n",
    "\n",
    "# from sklearn.neighbors import KNeighborsClassifier\n",
    "# my_classifier = KNeighborsClassifier() # ScrappyKNN()\n",
    "my_classifier = ScrappyKNN()\n",
    "\n",
    "my_classifier.fit(X_train, y_train)\n",
    "\n",
    "predictions = my_classifier.predict(X_test)\n",
    "\n",
    "from sklearn.metrics import accuracy_score\n",
    "\n",
    "print (accuracy_score(y_test, predictions))\n"
   ]
  },
  {
   "cell_type": "markdown",
   "metadata": {},
   "source": [
    "# 同一目錄下的另一個 KNN 實作範例\n",
    "\n",
    "這個範例包括 kNNClassifier.py, check.py, Datasets/Fisher.csv, Datasets/titanic.csv 等 files \n",
    "我查了一下 [Wikipedia](https://en.wikipedia.org/wiki/Iris_flower_data_set)，得知一般習知的 Iris dataset 也稱為 Fisher's Iris dataset:\n",
    "\n",
    "\"The Iris flower data set or Fisher's Iris data set is a multivariate data set introduced by the British statistician and biologist Ronald Fisher in his 1936 paper\"\n",
    "\n",
    "Iris 之外，另一組 Dataset, [titanic.csv](https://www.kaggle.com/c/titanic), 可就沉重了 - 根據 manifest 上兩千多名旅客的艙等、年齡、性別、票價、等資料預估存活機率。這組 dataset 裡有很多 string type 的 feature 而 KNN 處裡的是 vector 必須是數字 type 因此原文並沒有實際用上這組 dataset. 可能留作練習題了？\n"
   ]
  },
  {
   "cell_type": "code",
   "execution_count": 7,
   "metadata": {},
   "outputs": [
    {
     "name": "stdout",
     "output_type": "stream",
     "text": [
      "96.0\n"
     ]
    }
   ],
   "source": [
    "%run kNNClassifier.py"
   ]
  }
 ],
 "metadata": {
  "kernelspec": {
   "display_name": "Python 3",
   "language": "python",
   "name": "python3"
  },
  "language_info": {
   "codemirror_mode": {
    "name": "ipython",
    "version": 3
   },
   "file_extension": ".py",
   "mimetype": "text/x-python",
   "name": "python",
   "nbconvert_exporter": "python",
   "pygments_lexer": "ipython3",
   "version": "3.6.0"
  }
 },
 "nbformat": 4,
 "nbformat_minor": 2
}
